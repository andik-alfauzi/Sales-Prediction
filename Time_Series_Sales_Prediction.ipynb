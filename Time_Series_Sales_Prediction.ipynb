{
  "nbformat": 4,
  "nbformat_minor": 0,
  "metadata": {
    "colab": {
      "provenance": [],
      "toc_visible": true
    },
    "kernelspec": {
      "name": "python3",
      "display_name": "Python 3"
    },
    "language_info": {
      "name": "python"
    }
  },
  "cells": [
    {
      "cell_type": "markdown",
      "source": [
        "# **1 - Perkenalan**\n",
        "\n",
        "---\n",
        "\n"
      ],
      "metadata": {
        "id": "CXqI8eCOniUX"
      }
    },
    {
      "cell_type": "markdown",
      "source": [
        "Bab pengenalan harus diisi dengan identitas, gambaran besar dataset yang digunakan, dan objective yang ingin dicapai."
      ],
      "metadata": {
        "id": "jVyqXyvqno-Y"
      }
    },
    {
      "cell_type": "markdown",
      "source": [
        "Nama : Andik Al Fauzi\n",
        "\n",
        "Objective : Membuat model machine learning untuk membuat prediksi penjualan"
      ],
      "metadata": {
        "id": "UA9eSgTlozdw"
      }
    },
    {
      "cell_type": "markdown",
      "source": [
        "#**2 - Background**"
      ],
      "metadata": {
        "id": "queEga6Fl9w8"
      }
    },
    {
      "cell_type": "markdown",
      "source": [
        "Penjualan adalah terjadinya penyaluran suatu barang/jasa dari produsen ke konsumen, baik secara tunai maupun kredit. Dengan adanya penjualan suatu barang/jasa maka diharapkan terjadinya perputaran ekonomi yang baik. Dari sisi produsen mengharapkan terjadinya volume penjualan yang tinggi sehingga akan didapatkan keuntungan yang maksimal. **ParagonCorp** adalah salah satu produsen dari beberapa brand kosmetik di Indonesia. Volume penjualan merupakan ujung tombak dari **ParagonCorp**, hal ini didasari karena salah satu poin penting dalam mencetak laba adalah dengan adanya volume penjualan yang tinggi. Dengan alasan ini maka saya selaku bagian di Data Analyst akan membuat insight dan membuat model prediksi penjualan dari dataset yang sudah ada."
      ],
      "metadata": {
        "id": "0JOwsZVYmAR9"
      }
    },
    {
      "cell_type": "markdown",
      "source": [
        "# **3 - Import Libraries**\n",
        "\n",
        "---\n",
        "\n"
      ],
      "metadata": {
        "id": "5dJ2VgnPoLoq"
      }
    },
    {
      "cell_type": "markdown",
      "source": [
        "Cell pertama pada notebook harus berisi dan hanya berisi semua library yang digunakan dalam project."
      ],
      "metadata": {
        "id": "uKaZiMmIoOO4"
      }
    },
    {
      "cell_type": "code",
      "source": [
        "# Importing libraries\n",
        "import pandas as pd\n",
        "import numpy as np\n",
        "import calendar\n",
        "\n",
        "# Model Libraries\n",
        "from sklearn.linear_model import LogisticRegression\n",
        "from sklearn.svm import SVC\n",
        "\n",
        "# Visualization libraries\n",
        "import matplotlib\n",
        "import matplotlib.pyplot as plt\n",
        "import seaborn as sns\n",
        "\n",
        "# Model Preprocessing libraries\n",
        "from sklearn.preprocessing import MinMaxScaler\n",
        "from sklearn.preprocessing import LabelEncoder\n",
        "from sklearn.model_selection import train_test_split\n",
        "from sklearn.metrics import mean_absolute_error, classification_report, accuracy_score\n",
        "from math import sqrt\n",
        "\n",
        "# Importing Libraries\n",
        "import pickle\n",
        "import json\n",
        "import datetime as dt\n",
        "\n",
        "# Warning Library\n",
        "import warnings\n",
        "warnings.filterwarnings('ignore')"
      ],
      "metadata": {
        "id": "KpfbgIFroPAJ"
      },
      "execution_count": 1,
      "outputs": []
    },
    {
      "cell_type": "code",
      "source": [
        "# Installing other library\n",
        "!pip install pyramid"
      ],
      "metadata": {
        "colab": {
          "base_uri": "https://localhost:8080/"
        },
        "id": "U1gNFG8xq03z",
        "outputId": "f2d3ae6e-d482-493c-f6bb-791e961bc1a9"
      },
      "execution_count": 2,
      "outputs": [
        {
          "output_type": "stream",
          "name": "stdout",
          "text": [
            "Looking in indexes: https://pypi.org/simple, https://us-python.pkg.dev/colab-wheels/public/simple/\n",
            "Collecting pyramid\n",
            "  Downloading pyramid-2.0.1-py3-none-any.whl (246 kB)\n",
            "\u001b[2K     \u001b[90m━━━━━━━━━━━━━━━━━━━━━━━━━━━━━━━━━━━━━━━\u001b[0m \u001b[32m247.0/247.0 kB\u001b[0m \u001b[31m6.2 MB/s\u001b[0m eta \u001b[36m0:00:00\u001b[0m\n",
            "\u001b[?25hCollecting hupper>=1.5 (from pyramid)\n",
            "  Downloading hupper-1.12-py3-none-any.whl (22 kB)\n",
            "Collecting plaster (from pyramid)\n",
            "  Downloading plaster-1.1.2-py2.py3-none-any.whl (11 kB)\n",
            "Collecting plaster-pastedeploy (from pyramid)\n",
            "  Downloading plaster_pastedeploy-1.0.1-py2.py3-none-any.whl (7.8 kB)\n",
            "Requirement already satisfied: setuptools in /usr/local/lib/python3.10/dist-packages (from pyramid) (67.7.2)\n",
            "Collecting translationstring>=0.4 (from pyramid)\n",
            "  Downloading translationstring-1.4-py2.py3-none-any.whl (15 kB)\n",
            "Collecting venusian>=1.0 (from pyramid)\n",
            "  Downloading venusian-3.0.0-py3-none-any.whl (13 kB)\n",
            "Collecting webob>=1.8.3 (from pyramid)\n",
            "  Downloading WebOb-1.8.7-py2.py3-none-any.whl (114 kB)\n",
            "\u001b[2K     \u001b[90m━━━━━━━━━━━━━━━━━━━━━━━━━━━━━━━━━━━━━━\u001b[0m \u001b[32m115.0/115.0 kB\u001b[0m \u001b[31m13.0 MB/s\u001b[0m eta \u001b[36m0:00:00\u001b[0m\n",
            "\u001b[?25hCollecting zope.deprecation>=3.5.0 (from pyramid)\n",
            "  Downloading zope.deprecation-5.0-py3-none-any.whl (10 kB)\n",
            "Collecting zope.interface>=3.8.0 (from pyramid)\n",
            "  Downloading zope.interface-6.0-cp310-cp310-manylinux_2_5_x86_64.manylinux1_x86_64.manylinux_2_17_x86_64.manylinux2014_x86_64.whl (246 kB)\n",
            "\u001b[2K     \u001b[90m━━━━━━━━━━━━━━━━━━━━━━━━━━━━━━━━━━━━━━\u001b[0m \u001b[32m247.0/247.0 kB\u001b[0m \u001b[31m17.2 MB/s\u001b[0m eta \u001b[36m0:00:00\u001b[0m\n",
            "\u001b[?25hCollecting PasteDeploy>=2.0 (from plaster-pastedeploy->pyramid)\n",
            "  Downloading PasteDeploy-3.0.1-py3-none-any.whl (16 kB)\n",
            "Installing collected packages: translationstring, zope.interface, zope.deprecation, webob, venusian, plaster, PasteDeploy, hupper, plaster-pastedeploy, pyramid\n",
            "Successfully installed PasteDeploy-3.0.1 hupper-1.12 plaster-1.1.2 plaster-pastedeploy-1.0.1 pyramid-2.0.1 translationstring-1.4 venusian-3.0.0 webob-1.8.7 zope.deprecation-5.0 zope.interface-6.0\n"
          ]
        }
      ]
    },
    {
      "cell_type": "markdown",
      "source": [
        "# **4 - Data Loading**\n",
        "\n",
        "---"
      ],
      "metadata": {
        "id": "DKLv0Baoo3IV"
      }
    },
    {
      "cell_type": "markdown",
      "source": [
        "\n",
        "\n",
        "Bagian ini berisi proses penyiapan data sebelum dilakukan eksplorasi data lebih lanjut. Proses Data Loading dapat berupa memberi nama baru untuk setiap kolom, mengecek ukuran dataset, dll."
      ],
      "metadata": {
        "id": "ClFK_BKXo8Z7"
      }
    },
    {
      "cell_type": "code",
      "source": [
        "# Load the data\n",
        "data = pd.read_csv('https://raw.githubusercontent.com/andik-alfauzi/Final-Project/main/sample_dataset_timeseries_noarea.csv')\n",
        "\n",
        "# Display\n",
        "data.head(10)"
      ],
      "metadata": {
        "colab": {
          "base_uri": "https://localhost:8080/",
          "height": 363
        },
        "id": "78jut_ako79M",
        "outputId": "f46165dd-aade-4d17-fb7e-25439c6bc413"
      },
      "execution_count": 3,
      "outputs": [
        {
          "output_type": "execute_result",
          "data": {
            "text/plain": [
              "  week_number week_start_date week_end_date                      product_item  \\\n",
              "0     2021-52      2021-12-27    2022-01-02  0073377087c7ddace313ff829cd7b0b3   \n",
              "1     2021-52      2021-12-27    2022-01-02  012d2bb142b2d5e57330acbfd8e9ac52   \n",
              "2     2021-52      2021-12-27    2022-01-02  0192926e33d1153b63511a5b83eca843   \n",
              "3     2021-52      2021-12-27    2022-01-02  019502f6d13e383caa9b9673bf1302f8   \n",
              "4     2021-52      2021-12-27    2022-01-02  01e7ca6d4e21badc1d4225b6b2c7bd9e   \n",
              "5     2021-52      2021-12-27    2022-01-02  01fa9977e1c61ce5542c6f0c2a1b2895   \n",
              "6     2021-52      2021-12-27    2022-01-02  043e6d02d98b44c40645c8a22812fe88   \n",
              "7     2021-52      2021-12-27    2022-01-02  0512efdcc99fa4d57c42cd2cf6c73633   \n",
              "8     2021-52      2021-12-27    2022-01-02  05262da388ab82c51c48c9535bc8b121   \n",
              "9     2021-52      2021-12-27    2022-01-02  058cc2cecb91d10e901a597e67532619   \n",
              "\n",
              "   quantity  \n",
              "0        41  \n",
              "1       430  \n",
              "2         4  \n",
              "3       148  \n",
              "4       119  \n",
              "5         2  \n",
              "6        44  \n",
              "7       165  \n",
              "8        41  \n",
              "9       383  "
            ],
            "text/html": [
              "\n",
              "  <div id=\"df-43a87fea-6865-4e09-b019-07360c207902\">\n",
              "    <div class=\"colab-df-container\">\n",
              "      <div>\n",
              "<style scoped>\n",
              "    .dataframe tbody tr th:only-of-type {\n",
              "        vertical-align: middle;\n",
              "    }\n",
              "\n",
              "    .dataframe tbody tr th {\n",
              "        vertical-align: top;\n",
              "    }\n",
              "\n",
              "    .dataframe thead th {\n",
              "        text-align: right;\n",
              "    }\n",
              "</style>\n",
              "<table border=\"1\" class=\"dataframe\">\n",
              "  <thead>\n",
              "    <tr style=\"text-align: right;\">\n",
              "      <th></th>\n",
              "      <th>week_number</th>\n",
              "      <th>week_start_date</th>\n",
              "      <th>week_end_date</th>\n",
              "      <th>product_item</th>\n",
              "      <th>quantity</th>\n",
              "    </tr>\n",
              "  </thead>\n",
              "  <tbody>\n",
              "    <tr>\n",
              "      <th>0</th>\n",
              "      <td>2021-52</td>\n",
              "      <td>2021-12-27</td>\n",
              "      <td>2022-01-02</td>\n",
              "      <td>0073377087c7ddace313ff829cd7b0b3</td>\n",
              "      <td>41</td>\n",
              "    </tr>\n",
              "    <tr>\n",
              "      <th>1</th>\n",
              "      <td>2021-52</td>\n",
              "      <td>2021-12-27</td>\n",
              "      <td>2022-01-02</td>\n",
              "      <td>012d2bb142b2d5e57330acbfd8e9ac52</td>\n",
              "      <td>430</td>\n",
              "    </tr>\n",
              "    <tr>\n",
              "      <th>2</th>\n",
              "      <td>2021-52</td>\n",
              "      <td>2021-12-27</td>\n",
              "      <td>2022-01-02</td>\n",
              "      <td>0192926e33d1153b63511a5b83eca843</td>\n",
              "      <td>4</td>\n",
              "    </tr>\n",
              "    <tr>\n",
              "      <th>3</th>\n",
              "      <td>2021-52</td>\n",
              "      <td>2021-12-27</td>\n",
              "      <td>2022-01-02</td>\n",
              "      <td>019502f6d13e383caa9b9673bf1302f8</td>\n",
              "      <td>148</td>\n",
              "    </tr>\n",
              "    <tr>\n",
              "      <th>4</th>\n",
              "      <td>2021-52</td>\n",
              "      <td>2021-12-27</td>\n",
              "      <td>2022-01-02</td>\n",
              "      <td>01e7ca6d4e21badc1d4225b6b2c7bd9e</td>\n",
              "      <td>119</td>\n",
              "    </tr>\n",
              "    <tr>\n",
              "      <th>5</th>\n",
              "      <td>2021-52</td>\n",
              "      <td>2021-12-27</td>\n",
              "      <td>2022-01-02</td>\n",
              "      <td>01fa9977e1c61ce5542c6f0c2a1b2895</td>\n",
              "      <td>2</td>\n",
              "    </tr>\n",
              "    <tr>\n",
              "      <th>6</th>\n",
              "      <td>2021-52</td>\n",
              "      <td>2021-12-27</td>\n",
              "      <td>2022-01-02</td>\n",
              "      <td>043e6d02d98b44c40645c8a22812fe88</td>\n",
              "      <td>44</td>\n",
              "    </tr>\n",
              "    <tr>\n",
              "      <th>7</th>\n",
              "      <td>2021-52</td>\n",
              "      <td>2021-12-27</td>\n",
              "      <td>2022-01-02</td>\n",
              "      <td>0512efdcc99fa4d57c42cd2cf6c73633</td>\n",
              "      <td>165</td>\n",
              "    </tr>\n",
              "    <tr>\n",
              "      <th>8</th>\n",
              "      <td>2021-52</td>\n",
              "      <td>2021-12-27</td>\n",
              "      <td>2022-01-02</td>\n",
              "      <td>05262da388ab82c51c48c9535bc8b121</td>\n",
              "      <td>41</td>\n",
              "    </tr>\n",
              "    <tr>\n",
              "      <th>9</th>\n",
              "      <td>2021-52</td>\n",
              "      <td>2021-12-27</td>\n",
              "      <td>2022-01-02</td>\n",
              "      <td>058cc2cecb91d10e901a597e67532619</td>\n",
              "      <td>383</td>\n",
              "    </tr>\n",
              "  </tbody>\n",
              "</table>\n",
              "</div>\n",
              "      <button class=\"colab-df-convert\" onclick=\"convertToInteractive('df-43a87fea-6865-4e09-b019-07360c207902')\"\n",
              "              title=\"Convert this dataframe to an interactive table.\"\n",
              "              style=\"display:none;\">\n",
              "        \n",
              "  <svg xmlns=\"http://www.w3.org/2000/svg\" height=\"24px\"viewBox=\"0 0 24 24\"\n",
              "       width=\"24px\">\n",
              "    <path d=\"M0 0h24v24H0V0z\" fill=\"none\"/>\n",
              "    <path d=\"M18.56 5.44l.94 2.06.94-2.06 2.06-.94-2.06-.94-.94-2.06-.94 2.06-2.06.94zm-11 1L8.5 8.5l.94-2.06 2.06-.94-2.06-.94L8.5 2.5l-.94 2.06-2.06.94zm10 10l.94 2.06.94-2.06 2.06-.94-2.06-.94-.94-2.06-.94 2.06-2.06.94z\"/><path d=\"M17.41 7.96l-1.37-1.37c-.4-.4-.92-.59-1.43-.59-.52 0-1.04.2-1.43.59L10.3 9.45l-7.72 7.72c-.78.78-.78 2.05 0 2.83L4 21.41c.39.39.9.59 1.41.59.51 0 1.02-.2 1.41-.59l7.78-7.78 2.81-2.81c.8-.78.8-2.07 0-2.86zM5.41 20L4 18.59l7.72-7.72 1.47 1.35L5.41 20z\"/>\n",
              "  </svg>\n",
              "      </button>\n",
              "      \n",
              "  <style>\n",
              "    .colab-df-container {\n",
              "      display:flex;\n",
              "      flex-wrap:wrap;\n",
              "      gap: 12px;\n",
              "    }\n",
              "\n",
              "    .colab-df-convert {\n",
              "      background-color: #E8F0FE;\n",
              "      border: none;\n",
              "      border-radius: 50%;\n",
              "      cursor: pointer;\n",
              "      display: none;\n",
              "      fill: #1967D2;\n",
              "      height: 32px;\n",
              "      padding: 0 0 0 0;\n",
              "      width: 32px;\n",
              "    }\n",
              "\n",
              "    .colab-df-convert:hover {\n",
              "      background-color: #E2EBFA;\n",
              "      box-shadow: 0px 1px 2px rgba(60, 64, 67, 0.3), 0px 1px 3px 1px rgba(60, 64, 67, 0.15);\n",
              "      fill: #174EA6;\n",
              "    }\n",
              "\n",
              "    [theme=dark] .colab-df-convert {\n",
              "      background-color: #3B4455;\n",
              "      fill: #D2E3FC;\n",
              "    }\n",
              "\n",
              "    [theme=dark] .colab-df-convert:hover {\n",
              "      background-color: #434B5C;\n",
              "      box-shadow: 0px 1px 3px 1px rgba(0, 0, 0, 0.15);\n",
              "      filter: drop-shadow(0px 1px 2px rgba(0, 0, 0, 0.3));\n",
              "      fill: #FFFFFF;\n",
              "    }\n",
              "  </style>\n",
              "\n",
              "      <script>\n",
              "        const buttonEl =\n",
              "          document.querySelector('#df-43a87fea-6865-4e09-b019-07360c207902 button.colab-df-convert');\n",
              "        buttonEl.style.display =\n",
              "          google.colab.kernel.accessAllowed ? 'block' : 'none';\n",
              "\n",
              "        async function convertToInteractive(key) {\n",
              "          const element = document.querySelector('#df-43a87fea-6865-4e09-b019-07360c207902');\n",
              "          const dataTable =\n",
              "            await google.colab.kernel.invokeFunction('convertToInteractive',\n",
              "                                                     [key], {});\n",
              "          if (!dataTable) return;\n",
              "\n",
              "          const docLinkHtml = 'Like what you see? Visit the ' +\n",
              "            '<a target=\"_blank\" href=https://colab.research.google.com/notebooks/data_table.ipynb>data table notebook</a>'\n",
              "            + ' to learn more about interactive tables.';\n",
              "          element.innerHTML = '';\n",
              "          dataTable['output_type'] = 'display_data';\n",
              "          await google.colab.output.renderOutput(dataTable, element);\n",
              "          const docLink = document.createElement('div');\n",
              "          docLink.innerHTML = docLinkHtml;\n",
              "          element.appendChild(docLink);\n",
              "        }\n",
              "      </script>\n",
              "    </div>\n",
              "  </div>\n",
              "  "
            ]
          },
          "metadata": {},
          "execution_count": 3
        }
      ]
    },
    {
      "cell_type": "markdown",
      "source": [
        "# **5 - Exploratory Data Analysis (EDA)**\n",
        "\n",
        "---"
      ],
      "metadata": {
        "id": "W85xTw4Xo_00"
      }
    },
    {
      "cell_type": "markdown",
      "source": [
        "Bagian ini berisi eksplorasi data pada dataset diatas dengan menggunakan query, grouping, visualisasi sederhana, dan lain sebagainya.\n",
        "\n"
      ],
      "metadata": {
        "id": "mhUmGJUEpFB8"
      }
    },
    {
      "cell_type": "code",
      "source": [
        "# Describing data\n",
        "data.describe()"
      ],
      "metadata": {
        "colab": {
          "base_uri": "https://localhost:8080/",
          "height": 300
        },
        "id": "sxqM7GMTpYii",
        "outputId": "defe4ad9-5f1f-4748-d8b1-36bd8761c608"
      },
      "execution_count": 4,
      "outputs": [
        {
          "output_type": "execute_result",
          "data": {
            "text/plain": [
              "            quantity\n",
              "count  102733.000000\n",
              "mean     3191.562419\n",
              "std     12074.631014\n",
              "min         0.000000\n",
              "25%        75.000000\n",
              "50%       414.000000\n",
              "75%      1890.000000\n",
              "max    774732.000000"
            ],
            "text/html": [
              "\n",
              "  <div id=\"df-80f1cd68-6e26-4a54-af52-b8e869c0520e\">\n",
              "    <div class=\"colab-df-container\">\n",
              "      <div>\n",
              "<style scoped>\n",
              "    .dataframe tbody tr th:only-of-type {\n",
              "        vertical-align: middle;\n",
              "    }\n",
              "\n",
              "    .dataframe tbody tr th {\n",
              "        vertical-align: top;\n",
              "    }\n",
              "\n",
              "    .dataframe thead th {\n",
              "        text-align: right;\n",
              "    }\n",
              "</style>\n",
              "<table border=\"1\" class=\"dataframe\">\n",
              "  <thead>\n",
              "    <tr style=\"text-align: right;\">\n",
              "      <th></th>\n",
              "      <th>quantity</th>\n",
              "    </tr>\n",
              "  </thead>\n",
              "  <tbody>\n",
              "    <tr>\n",
              "      <th>count</th>\n",
              "      <td>102733.000000</td>\n",
              "    </tr>\n",
              "    <tr>\n",
              "      <th>mean</th>\n",
              "      <td>3191.562419</td>\n",
              "    </tr>\n",
              "    <tr>\n",
              "      <th>std</th>\n",
              "      <td>12074.631014</td>\n",
              "    </tr>\n",
              "    <tr>\n",
              "      <th>min</th>\n",
              "      <td>0.000000</td>\n",
              "    </tr>\n",
              "    <tr>\n",
              "      <th>25%</th>\n",
              "      <td>75.000000</td>\n",
              "    </tr>\n",
              "    <tr>\n",
              "      <th>50%</th>\n",
              "      <td>414.000000</td>\n",
              "    </tr>\n",
              "    <tr>\n",
              "      <th>75%</th>\n",
              "      <td>1890.000000</td>\n",
              "    </tr>\n",
              "    <tr>\n",
              "      <th>max</th>\n",
              "      <td>774732.000000</td>\n",
              "    </tr>\n",
              "  </tbody>\n",
              "</table>\n",
              "</div>\n",
              "      <button class=\"colab-df-convert\" onclick=\"convertToInteractive('df-80f1cd68-6e26-4a54-af52-b8e869c0520e')\"\n",
              "              title=\"Convert this dataframe to an interactive table.\"\n",
              "              style=\"display:none;\">\n",
              "        \n",
              "  <svg xmlns=\"http://www.w3.org/2000/svg\" height=\"24px\"viewBox=\"0 0 24 24\"\n",
              "       width=\"24px\">\n",
              "    <path d=\"M0 0h24v24H0V0z\" fill=\"none\"/>\n",
              "    <path d=\"M18.56 5.44l.94 2.06.94-2.06 2.06-.94-2.06-.94-.94-2.06-.94 2.06-2.06.94zm-11 1L8.5 8.5l.94-2.06 2.06-.94-2.06-.94L8.5 2.5l-.94 2.06-2.06.94zm10 10l.94 2.06.94-2.06 2.06-.94-2.06-.94-.94-2.06-.94 2.06-2.06.94z\"/><path d=\"M17.41 7.96l-1.37-1.37c-.4-.4-.92-.59-1.43-.59-.52 0-1.04.2-1.43.59L10.3 9.45l-7.72 7.72c-.78.78-.78 2.05 0 2.83L4 21.41c.39.39.9.59 1.41.59.51 0 1.02-.2 1.41-.59l7.78-7.78 2.81-2.81c.8-.78.8-2.07 0-2.86zM5.41 20L4 18.59l7.72-7.72 1.47 1.35L5.41 20z\"/>\n",
              "  </svg>\n",
              "      </button>\n",
              "      \n",
              "  <style>\n",
              "    .colab-df-container {\n",
              "      display:flex;\n",
              "      flex-wrap:wrap;\n",
              "      gap: 12px;\n",
              "    }\n",
              "\n",
              "    .colab-df-convert {\n",
              "      background-color: #E8F0FE;\n",
              "      border: none;\n",
              "      border-radius: 50%;\n",
              "      cursor: pointer;\n",
              "      display: none;\n",
              "      fill: #1967D2;\n",
              "      height: 32px;\n",
              "      padding: 0 0 0 0;\n",
              "      width: 32px;\n",
              "    }\n",
              "\n",
              "    .colab-df-convert:hover {\n",
              "      background-color: #E2EBFA;\n",
              "      box-shadow: 0px 1px 2px rgba(60, 64, 67, 0.3), 0px 1px 3px 1px rgba(60, 64, 67, 0.15);\n",
              "      fill: #174EA6;\n",
              "    }\n",
              "\n",
              "    [theme=dark] .colab-df-convert {\n",
              "      background-color: #3B4455;\n",
              "      fill: #D2E3FC;\n",
              "    }\n",
              "\n",
              "    [theme=dark] .colab-df-convert:hover {\n",
              "      background-color: #434B5C;\n",
              "      box-shadow: 0px 1px 3px 1px rgba(0, 0, 0, 0.15);\n",
              "      filter: drop-shadow(0px 1px 2px rgba(0, 0, 0, 0.3));\n",
              "      fill: #FFFFFF;\n",
              "    }\n",
              "  </style>\n",
              "\n",
              "      <script>\n",
              "        const buttonEl =\n",
              "          document.querySelector('#df-80f1cd68-6e26-4a54-af52-b8e869c0520e button.colab-df-convert');\n",
              "        buttonEl.style.display =\n",
              "          google.colab.kernel.accessAllowed ? 'block' : 'none';\n",
              "\n",
              "        async function convertToInteractive(key) {\n",
              "          const element = document.querySelector('#df-80f1cd68-6e26-4a54-af52-b8e869c0520e');\n",
              "          const dataTable =\n",
              "            await google.colab.kernel.invokeFunction('convertToInteractive',\n",
              "                                                     [key], {});\n",
              "          if (!dataTable) return;\n",
              "\n",
              "          const docLinkHtml = 'Like what you see? Visit the ' +\n",
              "            '<a target=\"_blank\" href=https://colab.research.google.com/notebooks/data_table.ipynb>data table notebook</a>'\n",
              "            + ' to learn more about interactive tables.';\n",
              "          element.innerHTML = '';\n",
              "          dataTable['output_type'] = 'display_data';\n",
              "          await google.colab.output.renderOutput(dataTable, element);\n",
              "          const docLink = document.createElement('div');\n",
              "          docLink.innerHTML = docLinkHtml;\n",
              "          element.appendChild(docLink);\n",
              "        }\n",
              "      </script>\n",
              "    </div>\n",
              "  </div>\n",
              "  "
            ]
          },
          "metadata": {},
          "execution_count": 4
        }
      ]
    },
    {
      "cell_type": "code",
      "source": [
        "# Info dataset\n",
        "data.info()"
      ],
      "metadata": {
        "colab": {
          "base_uri": "https://localhost:8080/"
        },
        "id": "1TptUUsZpdHO",
        "outputId": "3e36c5b6-95ac-4f7d-9341-8976945642e4"
      },
      "execution_count": 5,
      "outputs": [
        {
          "output_type": "stream",
          "name": "stdout",
          "text": [
            "<class 'pandas.core.frame.DataFrame'>\n",
            "RangeIndex: 102733 entries, 0 to 102732\n",
            "Data columns (total 5 columns):\n",
            " #   Column           Non-Null Count   Dtype \n",
            "---  ------           --------------   ----- \n",
            " 0   week_number      102733 non-null  object\n",
            " 1   week_start_date  102733 non-null  object\n",
            " 2   week_end_date    102733 non-null  object\n",
            " 3   product_item     102731 non-null  object\n",
            " 4   quantity         102733 non-null  int64 \n",
            "dtypes: int64(1), object(4)\n",
            "memory usage: 3.9+ MB\n"
          ]
        }
      ]
    },
    {
      "cell_type": "markdown",
      "source": [
        "Hampir semua data bertipe object, hanya 1 yang bertipe numerik yaitu quantity"
      ],
      "metadata": {
        "id": "-jiJjvyCpfjY"
      }
    },
    {
      "cell_type": "code",
      "source": [
        "# Convert dataset\n",
        "data['week_start_date'] = pd.to_datetime(data['week_start_date'], format='%Y-%m-%d')\n",
        "data['week_end_date'] = pd.to_datetime(data['week_end_date'], format='%Y-%m-%d')\n",
        "\n",
        "# Check after converting\n",
        "data.info()"
      ],
      "metadata": {
        "colab": {
          "base_uri": "https://localhost:8080/"
        },
        "id": "ZCVUdizDpmv0",
        "outputId": "5a8bccf2-4362-4a7a-e1a1-95beacd5b424"
      },
      "execution_count": 6,
      "outputs": [
        {
          "output_type": "stream",
          "name": "stdout",
          "text": [
            "<class 'pandas.core.frame.DataFrame'>\n",
            "RangeIndex: 102733 entries, 0 to 102732\n",
            "Data columns (total 5 columns):\n",
            " #   Column           Non-Null Count   Dtype         \n",
            "---  ------           --------------   -----         \n",
            " 0   week_number      102733 non-null  object        \n",
            " 1   week_start_date  102733 non-null  datetime64[ns]\n",
            " 2   week_end_date    102733 non-null  datetime64[ns]\n",
            " 3   product_item     102731 non-null  object        \n",
            " 4   quantity         102733 non-null  int64         \n",
            "dtypes: datetime64[ns](2), int64(1), object(2)\n",
            "memory usage: 3.9+ MB\n"
          ]
        }
      ]
    },
    {
      "cell_type": "code",
      "source": [
        "# Check invertal of data\n",
        "data['freq'] = ((data['week_end_date'] - data['week_start_date']).dt.days)+1\n",
        "\n",
        "# Display\n",
        "print('Interval date range : ', data.freq.unique())"
      ],
      "metadata": {
        "colab": {
          "base_uri": "https://localhost:8080/"
        },
        "id": "-z6RUMPvp-2h",
        "outputId": "5d764d29-7663-4de8-8ac3-3e65b1e1dca4"
      },
      "execution_count": 7,
      "outputs": [
        {
          "output_type": "stream",
          "name": "stdout",
          "text": [
            "Interval date range :  [7]\n"
          ]
        }
      ]
    },
    {
      "cell_type": "markdown",
      "source": [
        "Semua data memiliki range yang sama yaitu penjualan mingguan"
      ],
      "metadata": {
        "id": "Cb36LQTLtDVM"
      }
    },
    {
      "cell_type": "code",
      "source": [
        "# Check missing value\n",
        "data.loc[(data['quantity'] == 0)]"
      ],
      "metadata": {
        "colab": {
          "base_uri": "https://localhost:8080/",
          "height": 143
        },
        "id": "tI5wiHQNuQRs",
        "outputId": "09601c80-6dd7-4145-c81a-ecc98c87dc1d"
      },
      "execution_count": 8,
      "outputs": [
        {
          "output_type": "execute_result",
          "data": {
            "text/plain": [
              "      week_number week_start_date week_end_date  \\\n",
              "72589     2022-47      2022-11-21    2022-11-27   \n",
              "74199     2022-48      2022-11-28    2022-12-04   \n",
              "75806     2022-49      2022-12-05    2022-12-11   \n",
              "\n",
              "                           product_item  quantity  freq  \n",
              "72589  6adc4ddabd44c5aa2f4c6105ceda926a         0     7  \n",
              "74199  6adc4ddabd44c5aa2f4c6105ceda926a         0     7  \n",
              "75806  6adc4ddabd44c5aa2f4c6105ceda926a         0     7  "
            ],
            "text/html": [
              "\n",
              "  <div id=\"df-c47289b5-2bb1-498c-9fa7-d89c1593bc2e\">\n",
              "    <div class=\"colab-df-container\">\n",
              "      <div>\n",
              "<style scoped>\n",
              "    .dataframe tbody tr th:only-of-type {\n",
              "        vertical-align: middle;\n",
              "    }\n",
              "\n",
              "    .dataframe tbody tr th {\n",
              "        vertical-align: top;\n",
              "    }\n",
              "\n",
              "    .dataframe thead th {\n",
              "        text-align: right;\n",
              "    }\n",
              "</style>\n",
              "<table border=\"1\" class=\"dataframe\">\n",
              "  <thead>\n",
              "    <tr style=\"text-align: right;\">\n",
              "      <th></th>\n",
              "      <th>week_number</th>\n",
              "      <th>week_start_date</th>\n",
              "      <th>week_end_date</th>\n",
              "      <th>product_item</th>\n",
              "      <th>quantity</th>\n",
              "      <th>freq</th>\n",
              "    </tr>\n",
              "  </thead>\n",
              "  <tbody>\n",
              "    <tr>\n",
              "      <th>72589</th>\n",
              "      <td>2022-47</td>\n",
              "      <td>2022-11-21</td>\n",
              "      <td>2022-11-27</td>\n",
              "      <td>6adc4ddabd44c5aa2f4c6105ceda926a</td>\n",
              "      <td>0</td>\n",
              "      <td>7</td>\n",
              "    </tr>\n",
              "    <tr>\n",
              "      <th>74199</th>\n",
              "      <td>2022-48</td>\n",
              "      <td>2022-11-28</td>\n",
              "      <td>2022-12-04</td>\n",
              "      <td>6adc4ddabd44c5aa2f4c6105ceda926a</td>\n",
              "      <td>0</td>\n",
              "      <td>7</td>\n",
              "    </tr>\n",
              "    <tr>\n",
              "      <th>75806</th>\n",
              "      <td>2022-49</td>\n",
              "      <td>2022-12-05</td>\n",
              "      <td>2022-12-11</td>\n",
              "      <td>6adc4ddabd44c5aa2f4c6105ceda926a</td>\n",
              "      <td>0</td>\n",
              "      <td>7</td>\n",
              "    </tr>\n",
              "  </tbody>\n",
              "</table>\n",
              "</div>\n",
              "      <button class=\"colab-df-convert\" onclick=\"convertToInteractive('df-c47289b5-2bb1-498c-9fa7-d89c1593bc2e')\"\n",
              "              title=\"Convert this dataframe to an interactive table.\"\n",
              "              style=\"display:none;\">\n",
              "        \n",
              "  <svg xmlns=\"http://www.w3.org/2000/svg\" height=\"24px\"viewBox=\"0 0 24 24\"\n",
              "       width=\"24px\">\n",
              "    <path d=\"M0 0h24v24H0V0z\" fill=\"none\"/>\n",
              "    <path d=\"M18.56 5.44l.94 2.06.94-2.06 2.06-.94-2.06-.94-.94-2.06-.94 2.06-2.06.94zm-11 1L8.5 8.5l.94-2.06 2.06-.94-2.06-.94L8.5 2.5l-.94 2.06-2.06.94zm10 10l.94 2.06.94-2.06 2.06-.94-2.06-.94-.94-2.06-.94 2.06-2.06.94z\"/><path d=\"M17.41 7.96l-1.37-1.37c-.4-.4-.92-.59-1.43-.59-.52 0-1.04.2-1.43.59L10.3 9.45l-7.72 7.72c-.78.78-.78 2.05 0 2.83L4 21.41c.39.39.9.59 1.41.59.51 0 1.02-.2 1.41-.59l7.78-7.78 2.81-2.81c.8-.78.8-2.07 0-2.86zM5.41 20L4 18.59l7.72-7.72 1.47 1.35L5.41 20z\"/>\n",
              "  </svg>\n",
              "      </button>\n",
              "      \n",
              "  <style>\n",
              "    .colab-df-container {\n",
              "      display:flex;\n",
              "      flex-wrap:wrap;\n",
              "      gap: 12px;\n",
              "    }\n",
              "\n",
              "    .colab-df-convert {\n",
              "      background-color: #E8F0FE;\n",
              "      border: none;\n",
              "      border-radius: 50%;\n",
              "      cursor: pointer;\n",
              "      display: none;\n",
              "      fill: #1967D2;\n",
              "      height: 32px;\n",
              "      padding: 0 0 0 0;\n",
              "      width: 32px;\n",
              "    }\n",
              "\n",
              "    .colab-df-convert:hover {\n",
              "      background-color: #E2EBFA;\n",
              "      box-shadow: 0px 1px 2px rgba(60, 64, 67, 0.3), 0px 1px 3px 1px rgba(60, 64, 67, 0.15);\n",
              "      fill: #174EA6;\n",
              "    }\n",
              "\n",
              "    [theme=dark] .colab-df-convert {\n",
              "      background-color: #3B4455;\n",
              "      fill: #D2E3FC;\n",
              "    }\n",
              "\n",
              "    [theme=dark] .colab-df-convert:hover {\n",
              "      background-color: #434B5C;\n",
              "      box-shadow: 0px 1px 3px 1px rgba(0, 0, 0, 0.15);\n",
              "      filter: drop-shadow(0px 1px 2px rgba(0, 0, 0, 0.3));\n",
              "      fill: #FFFFFF;\n",
              "    }\n",
              "  </style>\n",
              "\n",
              "      <script>\n",
              "        const buttonEl =\n",
              "          document.querySelector('#df-c47289b5-2bb1-498c-9fa7-d89c1593bc2e button.colab-df-convert');\n",
              "        buttonEl.style.display =\n",
              "          google.colab.kernel.accessAllowed ? 'block' : 'none';\n",
              "\n",
              "        async function convertToInteractive(key) {\n",
              "          const element = document.querySelector('#df-c47289b5-2bb1-498c-9fa7-d89c1593bc2e');\n",
              "          const dataTable =\n",
              "            await google.colab.kernel.invokeFunction('convertToInteractive',\n",
              "                                                     [key], {});\n",
              "          if (!dataTable) return;\n",
              "\n",
              "          const docLinkHtml = 'Like what you see? Visit the ' +\n",
              "            '<a target=\"_blank\" href=https://colab.research.google.com/notebooks/data_table.ipynb>data table notebook</a>'\n",
              "            + ' to learn more about interactive tables.';\n",
              "          element.innerHTML = '';\n",
              "          dataTable['output_type'] = 'display_data';\n",
              "          await google.colab.output.renderOutput(dataTable, element);\n",
              "          const docLink = document.createElement('div');\n",
              "          docLink.innerHTML = docLinkHtml;\n",
              "          element.appendChild(docLink);\n",
              "        }\n",
              "      </script>\n",
              "    </div>\n",
              "  </div>\n",
              "  "
            ]
          },
          "metadata": {},
          "execution_count": 8
        }
      ]
    },
    {
      "cell_type": "markdown",
      "source": [
        "Ada 1 item yang tidak memiliki performa penjualan"
      ],
      "metadata": {
        "id": "UDnnhKwNucw7"
      }
    },
    {
      "cell_type": "code",
      "source": [
        "# Check duplicated\n",
        "data.duplicated().sum()"
      ],
      "metadata": {
        "colab": {
          "base_uri": "https://localhost:8080/"
        },
        "id": "pj7omlqHR9Xb",
        "outputId": "f1f22299-513d-425a-ac28-2c301087d4b3"
      },
      "execution_count": 9,
      "outputs": [
        {
          "output_type": "execute_result",
          "data": {
            "text/plain": [
              "0"
            ]
          },
          "metadata": {},
          "execution_count": 9
        }
      ]
    },
    {
      "cell_type": "markdown",
      "source": [
        "No data duplicated"
      ],
      "metadata": {
        "id": "HL4E9RQKSDnH"
      }
    },
    {
      "cell_type": "code",
      "source": [
        "# Check missing value\n",
        "print('Data missing in dataset : ')\n",
        "print('')\n",
        "print(data.isnull().sum())"
      ],
      "metadata": {
        "colab": {
          "base_uri": "https://localhost:8080/"
        },
        "id": "J6JWreR3o0Np",
        "outputId": "d5dd28ab-05d6-41d5-a45f-fa342ebd87cc"
      },
      "execution_count": 10,
      "outputs": [
        {
          "output_type": "stream",
          "name": "stdout",
          "text": [
            "Data missing in dataset : \n",
            "\n",
            "week_number        0\n",
            "week_start_date    0\n",
            "week_end_date      0\n",
            "product_item       2\n",
            "quantity           0\n",
            "freq               0\n",
            "dtype: int64\n"
          ]
        }
      ]
    },
    {
      "cell_type": "markdown",
      "source": [
        "Terdapat data missing sebanyak 2 dikolom `product_item`, karena data yang missing hanya 2 dari 102.733 maka data missing tersebut akan didrop."
      ],
      "metadata": {
        "id": "WDwA2RWmpFRk"
      }
    },
    {
      "cell_type": "code",
      "source": [
        "# Drop missing data\n",
        "data = data.dropna()"
      ],
      "metadata": {
        "id": "DXXBsfzYpT0T"
      },
      "execution_count": 11,
      "outputs": []
    },
    {
      "cell_type": "code",
      "source": [
        "# Check after drop\n",
        "print('Data missing in dataset : ')\n",
        "print('')\n",
        "print(data.isnull().sum())"
      ],
      "metadata": {
        "colab": {
          "base_uri": "https://localhost:8080/"
        },
        "id": "HG_FU_09qGg9",
        "outputId": "97ca6da2-6dd2-4fba-eec0-e419715a0a10"
      },
      "execution_count": 12,
      "outputs": [
        {
          "output_type": "stream",
          "name": "stdout",
          "text": [
            "Data missing in dataset : \n",
            "\n",
            "week_number        0\n",
            "week_start_date    0\n",
            "week_end_date      0\n",
            "product_item       0\n",
            "quantity           0\n",
            "freq               0\n",
            "dtype: int64\n"
          ]
        }
      ]
    },
    {
      "cell_type": "markdown",
      "source": [
        "Missing value berhasil didrop"
      ],
      "metadata": {
        "id": "fyWUOPXpqT5b"
      }
    },
    {
      "cell_type": "code",
      "source": [
        "# Check sales per item\n",
        "salesPerItem = data.groupby('product_item', as_index=False)['quantity'].sum()\n",
        "\n",
        "# Creating dataframe\n",
        "salesPerItem = pd.DataFrame(salesPerItem)\n",
        "\n",
        "# Display\n",
        "salesPerItem"
      ],
      "metadata": {
        "colab": {
          "base_uri": "https://localhost:8080/",
          "height": 423
        },
        "id": "IfaxfbVOtLx2",
        "outputId": "d1f5cc59-1f28-4fe1-c2f8-e5091496de0b"
      },
      "execution_count": 13,
      "outputs": [
        {
          "output_type": "execute_result",
          "data": {
            "text/plain": [
              "                          product_item  quantity\n",
              "0     00450b4fde94b528b4255b4f6f51599d     15691\n",
              "1     0065e8b533cd2c8273529312a6e8f219     29334\n",
              "2     0073377087c7ddace313ff829cd7b0b3      9645\n",
              "3     0098d23d332c193a07eabaf0f703d4e5    214632\n",
              "4     009e12e8fd2ef0b77047206e939fc6b9     39402\n",
              "...                                ...       ...\n",
              "2304  ff92741956851dca5a1daafeef1d9dd7        16\n",
              "2305  ff9d05a4d6f922b3ab1653f58165b8ce        16\n",
              "2306  ffbd6f1d884056a4f622d54ae79e5a14   3532900\n",
              "2307  ffdf02b13a7c56d736d6a5ca701d936b       218\n",
              "2308  fff18f7c705e729746515e2053dee64b     10596\n",
              "\n",
              "[2309 rows x 2 columns]"
            ],
            "text/html": [
              "\n",
              "  <div id=\"df-11e3fd5a-be58-4ccf-9f03-c0d68d96f1f6\">\n",
              "    <div class=\"colab-df-container\">\n",
              "      <div>\n",
              "<style scoped>\n",
              "    .dataframe tbody tr th:only-of-type {\n",
              "        vertical-align: middle;\n",
              "    }\n",
              "\n",
              "    .dataframe tbody tr th {\n",
              "        vertical-align: top;\n",
              "    }\n",
              "\n",
              "    .dataframe thead th {\n",
              "        text-align: right;\n",
              "    }\n",
              "</style>\n",
              "<table border=\"1\" class=\"dataframe\">\n",
              "  <thead>\n",
              "    <tr style=\"text-align: right;\">\n",
              "      <th></th>\n",
              "      <th>product_item</th>\n",
              "      <th>quantity</th>\n",
              "    </tr>\n",
              "  </thead>\n",
              "  <tbody>\n",
              "    <tr>\n",
              "      <th>0</th>\n",
              "      <td>00450b4fde94b528b4255b4f6f51599d</td>\n",
              "      <td>15691</td>\n",
              "    </tr>\n",
              "    <tr>\n",
              "      <th>1</th>\n",
              "      <td>0065e8b533cd2c8273529312a6e8f219</td>\n",
              "      <td>29334</td>\n",
              "    </tr>\n",
              "    <tr>\n",
              "      <th>2</th>\n",
              "      <td>0073377087c7ddace313ff829cd7b0b3</td>\n",
              "      <td>9645</td>\n",
              "    </tr>\n",
              "    <tr>\n",
              "      <th>3</th>\n",
              "      <td>0098d23d332c193a07eabaf0f703d4e5</td>\n",
              "      <td>214632</td>\n",
              "    </tr>\n",
              "    <tr>\n",
              "      <th>4</th>\n",
              "      <td>009e12e8fd2ef0b77047206e939fc6b9</td>\n",
              "      <td>39402</td>\n",
              "    </tr>\n",
              "    <tr>\n",
              "      <th>...</th>\n",
              "      <td>...</td>\n",
              "      <td>...</td>\n",
              "    </tr>\n",
              "    <tr>\n",
              "      <th>2304</th>\n",
              "      <td>ff92741956851dca5a1daafeef1d9dd7</td>\n",
              "      <td>16</td>\n",
              "    </tr>\n",
              "    <tr>\n",
              "      <th>2305</th>\n",
              "      <td>ff9d05a4d6f922b3ab1653f58165b8ce</td>\n",
              "      <td>16</td>\n",
              "    </tr>\n",
              "    <tr>\n",
              "      <th>2306</th>\n",
              "      <td>ffbd6f1d884056a4f622d54ae79e5a14</td>\n",
              "      <td>3532900</td>\n",
              "    </tr>\n",
              "    <tr>\n",
              "      <th>2307</th>\n",
              "      <td>ffdf02b13a7c56d736d6a5ca701d936b</td>\n",
              "      <td>218</td>\n",
              "    </tr>\n",
              "    <tr>\n",
              "      <th>2308</th>\n",
              "      <td>fff18f7c705e729746515e2053dee64b</td>\n",
              "      <td>10596</td>\n",
              "    </tr>\n",
              "  </tbody>\n",
              "</table>\n",
              "<p>2309 rows × 2 columns</p>\n",
              "</div>\n",
              "      <button class=\"colab-df-convert\" onclick=\"convertToInteractive('df-11e3fd5a-be58-4ccf-9f03-c0d68d96f1f6')\"\n",
              "              title=\"Convert this dataframe to an interactive table.\"\n",
              "              style=\"display:none;\">\n",
              "        \n",
              "  <svg xmlns=\"http://www.w3.org/2000/svg\" height=\"24px\"viewBox=\"0 0 24 24\"\n",
              "       width=\"24px\">\n",
              "    <path d=\"M0 0h24v24H0V0z\" fill=\"none\"/>\n",
              "    <path d=\"M18.56 5.44l.94 2.06.94-2.06 2.06-.94-2.06-.94-.94-2.06-.94 2.06-2.06.94zm-11 1L8.5 8.5l.94-2.06 2.06-.94-2.06-.94L8.5 2.5l-.94 2.06-2.06.94zm10 10l.94 2.06.94-2.06 2.06-.94-2.06-.94-.94-2.06-.94 2.06-2.06.94z\"/><path d=\"M17.41 7.96l-1.37-1.37c-.4-.4-.92-.59-1.43-.59-.52 0-1.04.2-1.43.59L10.3 9.45l-7.72 7.72c-.78.78-.78 2.05 0 2.83L4 21.41c.39.39.9.59 1.41.59.51 0 1.02-.2 1.41-.59l7.78-7.78 2.81-2.81c.8-.78.8-2.07 0-2.86zM5.41 20L4 18.59l7.72-7.72 1.47 1.35L5.41 20z\"/>\n",
              "  </svg>\n",
              "      </button>\n",
              "      \n",
              "  <style>\n",
              "    .colab-df-container {\n",
              "      display:flex;\n",
              "      flex-wrap:wrap;\n",
              "      gap: 12px;\n",
              "    }\n",
              "\n",
              "    .colab-df-convert {\n",
              "      background-color: #E8F0FE;\n",
              "      border: none;\n",
              "      border-radius: 50%;\n",
              "      cursor: pointer;\n",
              "      display: none;\n",
              "      fill: #1967D2;\n",
              "      height: 32px;\n",
              "      padding: 0 0 0 0;\n",
              "      width: 32px;\n",
              "    }\n",
              "\n",
              "    .colab-df-convert:hover {\n",
              "      background-color: #E2EBFA;\n",
              "      box-shadow: 0px 1px 2px rgba(60, 64, 67, 0.3), 0px 1px 3px 1px rgba(60, 64, 67, 0.15);\n",
              "      fill: #174EA6;\n",
              "    }\n",
              "\n",
              "    [theme=dark] .colab-df-convert {\n",
              "      background-color: #3B4455;\n",
              "      fill: #D2E3FC;\n",
              "    }\n",
              "\n",
              "    [theme=dark] .colab-df-convert:hover {\n",
              "      background-color: #434B5C;\n",
              "      box-shadow: 0px 1px 3px 1px rgba(0, 0, 0, 0.15);\n",
              "      filter: drop-shadow(0px 1px 2px rgba(0, 0, 0, 0.3));\n",
              "      fill: #FFFFFF;\n",
              "    }\n",
              "  </style>\n",
              "\n",
              "      <script>\n",
              "        const buttonEl =\n",
              "          document.querySelector('#df-11e3fd5a-be58-4ccf-9f03-c0d68d96f1f6 button.colab-df-convert');\n",
              "        buttonEl.style.display =\n",
              "          google.colab.kernel.accessAllowed ? 'block' : 'none';\n",
              "\n",
              "        async function convertToInteractive(key) {\n",
              "          const element = document.querySelector('#df-11e3fd5a-be58-4ccf-9f03-c0d68d96f1f6');\n",
              "          const dataTable =\n",
              "            await google.colab.kernel.invokeFunction('convertToInteractive',\n",
              "                                                     [key], {});\n",
              "          if (!dataTable) return;\n",
              "\n",
              "          const docLinkHtml = 'Like what you see? Visit the ' +\n",
              "            '<a target=\"_blank\" href=https://colab.research.google.com/notebooks/data_table.ipynb>data table notebook</a>'\n",
              "            + ' to learn more about interactive tables.';\n",
              "          element.innerHTML = '';\n",
              "          dataTable['output_type'] = 'display_data';\n",
              "          await google.colab.output.renderOutput(dataTable, element);\n",
              "          const docLink = document.createElement('div');\n",
              "          docLink.innerHTML = docLinkHtml;\n",
              "          element.appendChild(docLink);\n",
              "        }\n",
              "      </script>\n",
              "    </div>\n",
              "  </div>\n",
              "  "
            ]
          },
          "metadata": {},
          "execution_count": 13
        }
      ]
    },
    {
      "cell_type": "code",
      "source": [
        "# Describing sales per item\n",
        "salesPerItem.describe()"
      ],
      "metadata": {
        "colab": {
          "base_uri": "https://localhost:8080/",
          "height": 300
        },
        "id": "iAMjOO5FtoGH",
        "outputId": "bfab92f7-2e13-43bb-8e58-bc419242fc30"
      },
      "execution_count": 14,
      "outputs": [
        {
          "output_type": "execute_result",
          "data": {
            "text/plain": [
              "           quantity\n",
              "count  2.309000e+03\n",
              "mean   1.420002e+05\n",
              "std    5.951554e+05\n",
              "min    2.000000e+00\n",
              "25%    8.960000e+02\n",
              "50%    1.040600e+04\n",
              "75%    7.377700e+04\n",
              "max    1.820638e+07"
            ],
            "text/html": [
              "\n",
              "  <div id=\"df-870a6f85-6028-49ed-a966-983e8147212b\">\n",
              "    <div class=\"colab-df-container\">\n",
              "      <div>\n",
              "<style scoped>\n",
              "    .dataframe tbody tr th:only-of-type {\n",
              "        vertical-align: middle;\n",
              "    }\n",
              "\n",
              "    .dataframe tbody tr th {\n",
              "        vertical-align: top;\n",
              "    }\n",
              "\n",
              "    .dataframe thead th {\n",
              "        text-align: right;\n",
              "    }\n",
              "</style>\n",
              "<table border=\"1\" class=\"dataframe\">\n",
              "  <thead>\n",
              "    <tr style=\"text-align: right;\">\n",
              "      <th></th>\n",
              "      <th>quantity</th>\n",
              "    </tr>\n",
              "  </thead>\n",
              "  <tbody>\n",
              "    <tr>\n",
              "      <th>count</th>\n",
              "      <td>2.309000e+03</td>\n",
              "    </tr>\n",
              "    <tr>\n",
              "      <th>mean</th>\n",
              "      <td>1.420002e+05</td>\n",
              "    </tr>\n",
              "    <tr>\n",
              "      <th>std</th>\n",
              "      <td>5.951554e+05</td>\n",
              "    </tr>\n",
              "    <tr>\n",
              "      <th>min</th>\n",
              "      <td>2.000000e+00</td>\n",
              "    </tr>\n",
              "    <tr>\n",
              "      <th>25%</th>\n",
              "      <td>8.960000e+02</td>\n",
              "    </tr>\n",
              "    <tr>\n",
              "      <th>50%</th>\n",
              "      <td>1.040600e+04</td>\n",
              "    </tr>\n",
              "    <tr>\n",
              "      <th>75%</th>\n",
              "      <td>7.377700e+04</td>\n",
              "    </tr>\n",
              "    <tr>\n",
              "      <th>max</th>\n",
              "      <td>1.820638e+07</td>\n",
              "    </tr>\n",
              "  </tbody>\n",
              "</table>\n",
              "</div>\n",
              "      <button class=\"colab-df-convert\" onclick=\"convertToInteractive('df-870a6f85-6028-49ed-a966-983e8147212b')\"\n",
              "              title=\"Convert this dataframe to an interactive table.\"\n",
              "              style=\"display:none;\">\n",
              "        \n",
              "  <svg xmlns=\"http://www.w3.org/2000/svg\" height=\"24px\"viewBox=\"0 0 24 24\"\n",
              "       width=\"24px\">\n",
              "    <path d=\"M0 0h24v24H0V0z\" fill=\"none\"/>\n",
              "    <path d=\"M18.56 5.44l.94 2.06.94-2.06 2.06-.94-2.06-.94-.94-2.06-.94 2.06-2.06.94zm-11 1L8.5 8.5l.94-2.06 2.06-.94-2.06-.94L8.5 2.5l-.94 2.06-2.06.94zm10 10l.94 2.06.94-2.06 2.06-.94-2.06-.94-.94-2.06-.94 2.06-2.06.94z\"/><path d=\"M17.41 7.96l-1.37-1.37c-.4-.4-.92-.59-1.43-.59-.52 0-1.04.2-1.43.59L10.3 9.45l-7.72 7.72c-.78.78-.78 2.05 0 2.83L4 21.41c.39.39.9.59 1.41.59.51 0 1.02-.2 1.41-.59l7.78-7.78 2.81-2.81c.8-.78.8-2.07 0-2.86zM5.41 20L4 18.59l7.72-7.72 1.47 1.35L5.41 20z\"/>\n",
              "  </svg>\n",
              "      </button>\n",
              "      \n",
              "  <style>\n",
              "    .colab-df-container {\n",
              "      display:flex;\n",
              "      flex-wrap:wrap;\n",
              "      gap: 12px;\n",
              "    }\n",
              "\n",
              "    .colab-df-convert {\n",
              "      background-color: #E8F0FE;\n",
              "      border: none;\n",
              "      border-radius: 50%;\n",
              "      cursor: pointer;\n",
              "      display: none;\n",
              "      fill: #1967D2;\n",
              "      height: 32px;\n",
              "      padding: 0 0 0 0;\n",
              "      width: 32px;\n",
              "    }\n",
              "\n",
              "    .colab-df-convert:hover {\n",
              "      background-color: #E2EBFA;\n",
              "      box-shadow: 0px 1px 2px rgba(60, 64, 67, 0.3), 0px 1px 3px 1px rgba(60, 64, 67, 0.15);\n",
              "      fill: #174EA6;\n",
              "    }\n",
              "\n",
              "    [theme=dark] .colab-df-convert {\n",
              "      background-color: #3B4455;\n",
              "      fill: #D2E3FC;\n",
              "    }\n",
              "\n",
              "    [theme=dark] .colab-df-convert:hover {\n",
              "      background-color: #434B5C;\n",
              "      box-shadow: 0px 1px 3px 1px rgba(0, 0, 0, 0.15);\n",
              "      filter: drop-shadow(0px 1px 2px rgba(0, 0, 0, 0.3));\n",
              "      fill: #FFFFFF;\n",
              "    }\n",
              "  </style>\n",
              "\n",
              "      <script>\n",
              "        const buttonEl =\n",
              "          document.querySelector('#df-870a6f85-6028-49ed-a966-983e8147212b button.colab-df-convert');\n",
              "        buttonEl.style.display =\n",
              "          google.colab.kernel.accessAllowed ? 'block' : 'none';\n",
              "\n",
              "        async function convertToInteractive(key) {\n",
              "          const element = document.querySelector('#df-870a6f85-6028-49ed-a966-983e8147212b');\n",
              "          const dataTable =\n",
              "            await google.colab.kernel.invokeFunction('convertToInteractive',\n",
              "                                                     [key], {});\n",
              "          if (!dataTable) return;\n",
              "\n",
              "          const docLinkHtml = 'Like what you see? Visit the ' +\n",
              "            '<a target=\"_blank\" href=https://colab.research.google.com/notebooks/data_table.ipynb>data table notebook</a>'\n",
              "            + ' to learn more about interactive tables.';\n",
              "          element.innerHTML = '';\n",
              "          dataTable['output_type'] = 'display_data';\n",
              "          await google.colab.output.renderOutput(dataTable, element);\n",
              "          const docLink = document.createElement('div');\n",
              "          docLink.innerHTML = docLinkHtml;\n",
              "          element.appendChild(docLink);\n",
              "        }\n",
              "      </script>\n",
              "    </div>\n",
              "  </div>\n",
              "  "
            ]
          },
          "metadata": {},
          "execution_count": 14
        }
      ]
    },
    {
      "cell_type": "markdown",
      "source": [
        "Penjualan maksimal per item ada di angka 18 jutaan product yang terjual dan terendah ada di angka 2 product"
      ],
      "metadata": {
        "id": "kX8vK55MtvM9"
      }
    },
    {
      "cell_type": "code",
      "source": [
        "# Check the product_item sales frequency\n",
        "data.product_item.value_counts()"
      ],
      "metadata": {
        "colab": {
          "base_uri": "https://localhost:8080/"
        },
        "id": "OzaWDMv3wW6C",
        "outputId": "50eef42c-3837-49f7-9a97-02f4c4f4e3d6"
      },
      "execution_count": 16,
      "outputs": [
        {
          "output_type": "execute_result",
          "data": {
            "text/plain": [
              "0073377087c7ddace313ff829cd7b0b3    67\n",
              "870b3ad8c41b746b29ba31f6e4040950    67\n",
              "9264576b8833b892b34a39525bcdd271    67\n",
              "921cfbd1930eeee6b82a7b053c4ed8dc    67\n",
              "91f65f29b32c39788b4294cbe2be7024    67\n",
              "                                    ..\n",
              "d97d3a3e53124b6b1a8313403f54f6b8     1\n",
              "d963020bd8d76659c6768ad252be9629     1\n",
              "d4e90f2dcbcf53757d6bd1f3b6f368cb     1\n",
              "170ad92bf82a3509886ceb841cd6e3c3     1\n",
              "ff9d05a4d6f922b3ab1653f58165b8ce     1\n",
              "Name: product_item, Length: 2309, dtype: int64"
            ]
          },
          "metadata": {},
          "execution_count": 16
        }
      ]
    },
    {
      "cell_type": "markdown",
      "source": [
        "Dapat dilihat pada data tersebut, dimana `product_item` terbanyak ada di angka 67 dan terendah ada di angka 1.\n",
        "\n",
        "Berdasarkan data diatas, SKU (Stok Keeping Unit) adalah suatu kode yang diidentifikasikan terhadap suatu barang untuk menandai suatu barang yang dijual ataupun dibeli. Atau dapat dikatakan SKU adalah suatu kode unik dari seorang wirausahawan untuk menandai suatu barang yang akan dijual.\n",
        "\n",
        "Manfaat dari pemberian SKU ini adalah :\n",
        "1. Mempermudah control stok barang\n",
        "2. Mempercepat proses transaksi\n",
        "3. Mempermudah pencarian terhadap suatu barang\n",
        "4. Analisis bisnis terkait suatu produk\n",
        "5. Perencanaan suplai terhadap suatu produk"
      ],
      "metadata": {
        "id": "59JtV9GVO2Es"
      }
    },
    {
      "cell_type": "code",
      "source": [
        "# Check low sales of product_item\n",
        "under5Sales = salesPerItem.loc[(salesPerItem.quantity) <= 5]\n",
        "under5Sales"
      ],
      "metadata": {
        "colab": {
          "base_uri": "https://localhost:8080/",
          "height": 423
        },
        "id": "saPzOAt-qg30",
        "outputId": "c83d7df0-8fae-4380-e4a9-99a3ff92b1e6"
      },
      "execution_count": 25,
      "outputs": [
        {
          "output_type": "execute_result",
          "data": {
            "text/plain": [
              "                          product_item  quantity\n",
              "31    032115532ec9ddd8db33270b89c2b3b4         3\n",
              "53    04f23ce3472359127503baafdcd26566         4\n",
              "65    05c5f7ef2c62812ad43171bd0c68e5a8         4\n",
              "81    06fd73444a38e1d15daf3f6e6daf518c         2\n",
              "109   0a34b8158913801066a50897e0aeeede         3\n",
              "...                                ...       ...\n",
              "2219  f702a4c4a8e81c980e2b6af3768cef6f         4\n",
              "2223  f73327a6adb4669763189b8761d13a4e         4\n",
              "2225  f782021abbbc96df1994396320f1d7fd         4\n",
              "2270  fc44bfd0a54abcf7bd6442fd6706aaab         4\n",
              "2283  fdf36c03d179910672b8c637e480eb5b         2\n",
              "\n",
              "[98 rows x 2 columns]"
            ],
            "text/html": [
              "\n",
              "  <div id=\"df-7983929d-61df-493d-9801-2a8b42c7c50a\">\n",
              "    <div class=\"colab-df-container\">\n",
              "      <div>\n",
              "<style scoped>\n",
              "    .dataframe tbody tr th:only-of-type {\n",
              "        vertical-align: middle;\n",
              "    }\n",
              "\n",
              "    .dataframe tbody tr th {\n",
              "        vertical-align: top;\n",
              "    }\n",
              "\n",
              "    .dataframe thead th {\n",
              "        text-align: right;\n",
              "    }\n",
              "</style>\n",
              "<table border=\"1\" class=\"dataframe\">\n",
              "  <thead>\n",
              "    <tr style=\"text-align: right;\">\n",
              "      <th></th>\n",
              "      <th>product_item</th>\n",
              "      <th>quantity</th>\n",
              "    </tr>\n",
              "  </thead>\n",
              "  <tbody>\n",
              "    <tr>\n",
              "      <th>31</th>\n",
              "      <td>032115532ec9ddd8db33270b89c2b3b4</td>\n",
              "      <td>3</td>\n",
              "    </tr>\n",
              "    <tr>\n",
              "      <th>53</th>\n",
              "      <td>04f23ce3472359127503baafdcd26566</td>\n",
              "      <td>4</td>\n",
              "    </tr>\n",
              "    <tr>\n",
              "      <th>65</th>\n",
              "      <td>05c5f7ef2c62812ad43171bd0c68e5a8</td>\n",
              "      <td>4</td>\n",
              "    </tr>\n",
              "    <tr>\n",
              "      <th>81</th>\n",
              "      <td>06fd73444a38e1d15daf3f6e6daf518c</td>\n",
              "      <td>2</td>\n",
              "    </tr>\n",
              "    <tr>\n",
              "      <th>109</th>\n",
              "      <td>0a34b8158913801066a50897e0aeeede</td>\n",
              "      <td>3</td>\n",
              "    </tr>\n",
              "    <tr>\n",
              "      <th>...</th>\n",
              "      <td>...</td>\n",
              "      <td>...</td>\n",
              "    </tr>\n",
              "    <tr>\n",
              "      <th>2219</th>\n",
              "      <td>f702a4c4a8e81c980e2b6af3768cef6f</td>\n",
              "      <td>4</td>\n",
              "    </tr>\n",
              "    <tr>\n",
              "      <th>2223</th>\n",
              "      <td>f73327a6adb4669763189b8761d13a4e</td>\n",
              "      <td>4</td>\n",
              "    </tr>\n",
              "    <tr>\n",
              "      <th>2225</th>\n",
              "      <td>f782021abbbc96df1994396320f1d7fd</td>\n",
              "      <td>4</td>\n",
              "    </tr>\n",
              "    <tr>\n",
              "      <th>2270</th>\n",
              "      <td>fc44bfd0a54abcf7bd6442fd6706aaab</td>\n",
              "      <td>4</td>\n",
              "    </tr>\n",
              "    <tr>\n",
              "      <th>2283</th>\n",
              "      <td>fdf36c03d179910672b8c637e480eb5b</td>\n",
              "      <td>2</td>\n",
              "    </tr>\n",
              "  </tbody>\n",
              "</table>\n",
              "<p>98 rows × 2 columns</p>\n",
              "</div>\n",
              "      <button class=\"colab-df-convert\" onclick=\"convertToInteractive('df-7983929d-61df-493d-9801-2a8b42c7c50a')\"\n",
              "              title=\"Convert this dataframe to an interactive table.\"\n",
              "              style=\"display:none;\">\n",
              "        \n",
              "  <svg xmlns=\"http://www.w3.org/2000/svg\" height=\"24px\"viewBox=\"0 0 24 24\"\n",
              "       width=\"24px\">\n",
              "    <path d=\"M0 0h24v24H0V0z\" fill=\"none\"/>\n",
              "    <path d=\"M18.56 5.44l.94 2.06.94-2.06 2.06-.94-2.06-.94-.94-2.06-.94 2.06-2.06.94zm-11 1L8.5 8.5l.94-2.06 2.06-.94-2.06-.94L8.5 2.5l-.94 2.06-2.06.94zm10 10l.94 2.06.94-2.06 2.06-.94-2.06-.94-.94-2.06-.94 2.06-2.06.94z\"/><path d=\"M17.41 7.96l-1.37-1.37c-.4-.4-.92-.59-1.43-.59-.52 0-1.04.2-1.43.59L10.3 9.45l-7.72 7.72c-.78.78-.78 2.05 0 2.83L4 21.41c.39.39.9.59 1.41.59.51 0 1.02-.2 1.41-.59l7.78-7.78 2.81-2.81c.8-.78.8-2.07 0-2.86zM5.41 20L4 18.59l7.72-7.72 1.47 1.35L5.41 20z\"/>\n",
              "  </svg>\n",
              "      </button>\n",
              "      \n",
              "  <style>\n",
              "    .colab-df-container {\n",
              "      display:flex;\n",
              "      flex-wrap:wrap;\n",
              "      gap: 12px;\n",
              "    }\n",
              "\n",
              "    .colab-df-convert {\n",
              "      background-color: #E8F0FE;\n",
              "      border: none;\n",
              "      border-radius: 50%;\n",
              "      cursor: pointer;\n",
              "      display: none;\n",
              "      fill: #1967D2;\n",
              "      height: 32px;\n",
              "      padding: 0 0 0 0;\n",
              "      width: 32px;\n",
              "    }\n",
              "\n",
              "    .colab-df-convert:hover {\n",
              "      background-color: #E2EBFA;\n",
              "      box-shadow: 0px 1px 2px rgba(60, 64, 67, 0.3), 0px 1px 3px 1px rgba(60, 64, 67, 0.15);\n",
              "      fill: #174EA6;\n",
              "    }\n",
              "\n",
              "    [theme=dark] .colab-df-convert {\n",
              "      background-color: #3B4455;\n",
              "      fill: #D2E3FC;\n",
              "    }\n",
              "\n",
              "    [theme=dark] .colab-df-convert:hover {\n",
              "      background-color: #434B5C;\n",
              "      box-shadow: 0px 1px 3px 1px rgba(0, 0, 0, 0.15);\n",
              "      filter: drop-shadow(0px 1px 2px rgba(0, 0, 0, 0.3));\n",
              "      fill: #FFFFFF;\n",
              "    }\n",
              "  </style>\n",
              "\n",
              "      <script>\n",
              "        const buttonEl =\n",
              "          document.querySelector('#df-7983929d-61df-493d-9801-2a8b42c7c50a button.colab-df-convert');\n",
              "        buttonEl.style.display =\n",
              "          google.colab.kernel.accessAllowed ? 'block' : 'none';\n",
              "\n",
              "        async function convertToInteractive(key) {\n",
              "          const element = document.querySelector('#df-7983929d-61df-493d-9801-2a8b42c7c50a');\n",
              "          const dataTable =\n",
              "            await google.colab.kernel.invokeFunction('convertToInteractive',\n",
              "                                                     [key], {});\n",
              "          if (!dataTable) return;\n",
              "\n",
              "          const docLinkHtml = 'Like what you see? Visit the ' +\n",
              "            '<a target=\"_blank\" href=https://colab.research.google.com/notebooks/data_table.ipynb>data table notebook</a>'\n",
              "            + ' to learn more about interactive tables.';\n",
              "          element.innerHTML = '';\n",
              "          dataTable['output_type'] = 'display_data';\n",
              "          await google.colab.output.renderOutput(dataTable, element);\n",
              "          const docLink = document.createElement('div');\n",
              "          docLink.innerHTML = docLinkHtml;\n",
              "          element.appendChild(docLink);\n",
              "        }\n",
              "      </script>\n",
              "    </div>\n",
              "  </div>\n",
              "  "
            ]
          },
          "metadata": {},
          "execution_count": 25
        }
      ]
    },
    {
      "cell_type": "markdown",
      "source": [
        "Dari data diatas, dapat dilihat ada 98 `product_item` yang memiliki volume penjualan sampai dengan 5 barang. Hal ini perlu diperhatikan dan ditingkatkan lagi promosi terhadap barang tersebut agar penjualannya bisa semakin meningkat. Atau jika memang respon pasar tidak terlalu baik terhadap barang diatas, maka mungkin dari pihak management bisa memutuskan untuk discontinue terhadap barang tersebut."
      ],
      "metadata": {
        "id": "cPUiQPF8QQwF"
      }
    },
    {
      "cell_type": "code",
      "source": [
        "# Check the lowest sales\n",
        "lowSales = data.loc[(data['quantity'] <= 5)]\n",
        "lowSales"
      ],
      "metadata": {
        "colab": {
          "base_uri": "https://localhost:8080/",
          "height": 423
        },
        "id": "ffXOqbSmt3sG",
        "outputId": "eb5d0691-9921-4363-ad56-3d605e584d2c"
      },
      "execution_count": 26,
      "outputs": [
        {
          "output_type": "execute_result",
          "data": {
            "text/plain": [
              "       week_number week_start_date week_end_date  \\\n",
              "2          2021-52      2021-12-27    2022-01-02   \n",
              "5          2021-52      2021-12-27    2022-01-02   \n",
              "18         2021-52      2021-12-27    2022-01-02   \n",
              "19         2021-52      2021-12-27    2022-01-02   \n",
              "22         2021-52      2021-12-27    2022-01-02   \n",
              "...            ...             ...           ...   \n",
              "102601     2023-14      2023-04-03    2023-04-09   \n",
              "102637     2023-14      2023-04-03    2023-04-09   \n",
              "102676     2023-14      2023-04-03    2023-04-09   \n",
              "102683     2023-14      2023-04-03    2023-04-09   \n",
              "102708     2023-14      2023-04-03    2023-04-09   \n",
              "\n",
              "                            product_item  quantity  freq  \n",
              "2       0192926e33d1153b63511a5b83eca843         4     7  \n",
              "5       01fa9977e1c61ce5542c6f0c2a1b2895         2     7  \n",
              "18      09526918c3845ef9d13fbde9f90f608a         3     7  \n",
              "19      09ba614cfa8b54cecbfb8cae73e5ce61         2     7  \n",
              "22      0e1e5658dae97cd8dedf084b1c0753a1         3     7  \n",
              "...                                  ...       ...   ...  \n",
              "102601  ea19d8d861f541d67b7f5cabf230c92a         4     7  \n",
              "102637  ef3b8ecd6b7ad7f30508da89a07db067         2     7  \n",
              "102676  f68d9bdc3915db2e900a78f6d4be6285         2     7  \n",
              "102683  f7c2b5ff6ba252b780780252ae357cfe         4     7  \n",
              "102708  fbd1049328d399f4f4829aee4a7a7f36         2     7  \n",
              "\n",
              "[4580 rows x 6 columns]"
            ],
            "text/html": [
              "\n",
              "  <div id=\"df-f3d92451-e6e1-40ba-8988-16b45ecab621\">\n",
              "    <div class=\"colab-df-container\">\n",
              "      <div>\n",
              "<style scoped>\n",
              "    .dataframe tbody tr th:only-of-type {\n",
              "        vertical-align: middle;\n",
              "    }\n",
              "\n",
              "    .dataframe tbody tr th {\n",
              "        vertical-align: top;\n",
              "    }\n",
              "\n",
              "    .dataframe thead th {\n",
              "        text-align: right;\n",
              "    }\n",
              "</style>\n",
              "<table border=\"1\" class=\"dataframe\">\n",
              "  <thead>\n",
              "    <tr style=\"text-align: right;\">\n",
              "      <th></th>\n",
              "      <th>week_number</th>\n",
              "      <th>week_start_date</th>\n",
              "      <th>week_end_date</th>\n",
              "      <th>product_item</th>\n",
              "      <th>quantity</th>\n",
              "      <th>freq</th>\n",
              "    </tr>\n",
              "  </thead>\n",
              "  <tbody>\n",
              "    <tr>\n",
              "      <th>2</th>\n",
              "      <td>2021-52</td>\n",
              "      <td>2021-12-27</td>\n",
              "      <td>2022-01-02</td>\n",
              "      <td>0192926e33d1153b63511a5b83eca843</td>\n",
              "      <td>4</td>\n",
              "      <td>7</td>\n",
              "    </tr>\n",
              "    <tr>\n",
              "      <th>5</th>\n",
              "      <td>2021-52</td>\n",
              "      <td>2021-12-27</td>\n",
              "      <td>2022-01-02</td>\n",
              "      <td>01fa9977e1c61ce5542c6f0c2a1b2895</td>\n",
              "      <td>2</td>\n",
              "      <td>7</td>\n",
              "    </tr>\n",
              "    <tr>\n",
              "      <th>18</th>\n",
              "      <td>2021-52</td>\n",
              "      <td>2021-12-27</td>\n",
              "      <td>2022-01-02</td>\n",
              "      <td>09526918c3845ef9d13fbde9f90f608a</td>\n",
              "      <td>3</td>\n",
              "      <td>7</td>\n",
              "    </tr>\n",
              "    <tr>\n",
              "      <th>19</th>\n",
              "      <td>2021-52</td>\n",
              "      <td>2021-12-27</td>\n",
              "      <td>2022-01-02</td>\n",
              "      <td>09ba614cfa8b54cecbfb8cae73e5ce61</td>\n",
              "      <td>2</td>\n",
              "      <td>7</td>\n",
              "    </tr>\n",
              "    <tr>\n",
              "      <th>22</th>\n",
              "      <td>2021-52</td>\n",
              "      <td>2021-12-27</td>\n",
              "      <td>2022-01-02</td>\n",
              "      <td>0e1e5658dae97cd8dedf084b1c0753a1</td>\n",
              "      <td>3</td>\n",
              "      <td>7</td>\n",
              "    </tr>\n",
              "    <tr>\n",
              "      <th>...</th>\n",
              "      <td>...</td>\n",
              "      <td>...</td>\n",
              "      <td>...</td>\n",
              "      <td>...</td>\n",
              "      <td>...</td>\n",
              "      <td>...</td>\n",
              "    </tr>\n",
              "    <tr>\n",
              "      <th>102601</th>\n",
              "      <td>2023-14</td>\n",
              "      <td>2023-04-03</td>\n",
              "      <td>2023-04-09</td>\n",
              "      <td>ea19d8d861f541d67b7f5cabf230c92a</td>\n",
              "      <td>4</td>\n",
              "      <td>7</td>\n",
              "    </tr>\n",
              "    <tr>\n",
              "      <th>102637</th>\n",
              "      <td>2023-14</td>\n",
              "      <td>2023-04-03</td>\n",
              "      <td>2023-04-09</td>\n",
              "      <td>ef3b8ecd6b7ad7f30508da89a07db067</td>\n",
              "      <td>2</td>\n",
              "      <td>7</td>\n",
              "    </tr>\n",
              "    <tr>\n",
              "      <th>102676</th>\n",
              "      <td>2023-14</td>\n",
              "      <td>2023-04-03</td>\n",
              "      <td>2023-04-09</td>\n",
              "      <td>f68d9bdc3915db2e900a78f6d4be6285</td>\n",
              "      <td>2</td>\n",
              "      <td>7</td>\n",
              "    </tr>\n",
              "    <tr>\n",
              "      <th>102683</th>\n",
              "      <td>2023-14</td>\n",
              "      <td>2023-04-03</td>\n",
              "      <td>2023-04-09</td>\n",
              "      <td>f7c2b5ff6ba252b780780252ae357cfe</td>\n",
              "      <td>4</td>\n",
              "      <td>7</td>\n",
              "    </tr>\n",
              "    <tr>\n",
              "      <th>102708</th>\n",
              "      <td>2023-14</td>\n",
              "      <td>2023-04-03</td>\n",
              "      <td>2023-04-09</td>\n",
              "      <td>fbd1049328d399f4f4829aee4a7a7f36</td>\n",
              "      <td>2</td>\n",
              "      <td>7</td>\n",
              "    </tr>\n",
              "  </tbody>\n",
              "</table>\n",
              "<p>4580 rows × 6 columns</p>\n",
              "</div>\n",
              "      <button class=\"colab-df-convert\" onclick=\"convertToInteractive('df-f3d92451-e6e1-40ba-8988-16b45ecab621')\"\n",
              "              title=\"Convert this dataframe to an interactive table.\"\n",
              "              style=\"display:none;\">\n",
              "        \n",
              "  <svg xmlns=\"http://www.w3.org/2000/svg\" height=\"24px\"viewBox=\"0 0 24 24\"\n",
              "       width=\"24px\">\n",
              "    <path d=\"M0 0h24v24H0V0z\" fill=\"none\"/>\n",
              "    <path d=\"M18.56 5.44l.94 2.06.94-2.06 2.06-.94-2.06-.94-.94-2.06-.94 2.06-2.06.94zm-11 1L8.5 8.5l.94-2.06 2.06-.94-2.06-.94L8.5 2.5l-.94 2.06-2.06.94zm10 10l.94 2.06.94-2.06 2.06-.94-2.06-.94-.94-2.06-.94 2.06-2.06.94z\"/><path d=\"M17.41 7.96l-1.37-1.37c-.4-.4-.92-.59-1.43-.59-.52 0-1.04.2-1.43.59L10.3 9.45l-7.72 7.72c-.78.78-.78 2.05 0 2.83L4 21.41c.39.39.9.59 1.41.59.51 0 1.02-.2 1.41-.59l7.78-7.78 2.81-2.81c.8-.78.8-2.07 0-2.86zM5.41 20L4 18.59l7.72-7.72 1.47 1.35L5.41 20z\"/>\n",
              "  </svg>\n",
              "      </button>\n",
              "      \n",
              "  <style>\n",
              "    .colab-df-container {\n",
              "      display:flex;\n",
              "      flex-wrap:wrap;\n",
              "      gap: 12px;\n",
              "    }\n",
              "\n",
              "    .colab-df-convert {\n",
              "      background-color: #E8F0FE;\n",
              "      border: none;\n",
              "      border-radius: 50%;\n",
              "      cursor: pointer;\n",
              "      display: none;\n",
              "      fill: #1967D2;\n",
              "      height: 32px;\n",
              "      padding: 0 0 0 0;\n",
              "      width: 32px;\n",
              "    }\n",
              "\n",
              "    .colab-df-convert:hover {\n",
              "      background-color: #E2EBFA;\n",
              "      box-shadow: 0px 1px 2px rgba(60, 64, 67, 0.3), 0px 1px 3px 1px rgba(60, 64, 67, 0.15);\n",
              "      fill: #174EA6;\n",
              "    }\n",
              "\n",
              "    [theme=dark] .colab-df-convert {\n",
              "      background-color: #3B4455;\n",
              "      fill: #D2E3FC;\n",
              "    }\n",
              "\n",
              "    [theme=dark] .colab-df-convert:hover {\n",
              "      background-color: #434B5C;\n",
              "      box-shadow: 0px 1px 3px 1px rgba(0, 0, 0, 0.15);\n",
              "      filter: drop-shadow(0px 1px 2px rgba(0, 0, 0, 0.3));\n",
              "      fill: #FFFFFF;\n",
              "    }\n",
              "  </style>\n",
              "\n",
              "      <script>\n",
              "        const buttonEl =\n",
              "          document.querySelector('#df-f3d92451-e6e1-40ba-8988-16b45ecab621 button.colab-df-convert');\n",
              "        buttonEl.style.display =\n",
              "          google.colab.kernel.accessAllowed ? 'block' : 'none';\n",
              "\n",
              "        async function convertToInteractive(key) {\n",
              "          const element = document.querySelector('#df-f3d92451-e6e1-40ba-8988-16b45ecab621');\n",
              "          const dataTable =\n",
              "            await google.colab.kernel.invokeFunction('convertToInteractive',\n",
              "                                                     [key], {});\n",
              "          if (!dataTable) return;\n",
              "\n",
              "          const docLinkHtml = 'Like what you see? Visit the ' +\n",
              "            '<a target=\"_blank\" href=https://colab.research.google.com/notebooks/data_table.ipynb>data table notebook</a>'\n",
              "            + ' to learn more about interactive tables.';\n",
              "          element.innerHTML = '';\n",
              "          dataTable['output_type'] = 'display_data';\n",
              "          await google.colab.output.renderOutput(dataTable, element);\n",
              "          const docLink = document.createElement('div');\n",
              "          docLink.innerHTML = docLinkHtml;\n",
              "          element.appendChild(docLink);\n",
              "        }\n",
              "      </script>\n",
              "    </div>\n",
              "  </div>\n",
              "  "
            ]
          },
          "metadata": {},
          "execution_count": 26
        }
      ]
    },
    {
      "cell_type": "code",
      "source": [
        "# Grouping lowest sales\n",
        "lowSales = lowSales.groupby('week_start_date')['quantity'].sum()\n",
        "lowSales = pd.DataFrame(lowSales)\n",
        "lowSales"
      ],
      "metadata": {
        "colab": {
          "base_uri": "https://localhost:8080/",
          "height": 455
        },
        "id": "WGboJjxjxH_U",
        "outputId": "7de67c84-1b39-4d36-c468-559cca8b1c2d"
      },
      "execution_count": 27,
      "outputs": [
        {
          "output_type": "execute_result",
          "data": {
            "text/plain": [
              "                 quantity\n",
              "week_start_date          \n",
              "2021-12-27            178\n",
              "2022-01-03            271\n",
              "2022-01-10            152\n",
              "2022-01-17            280\n",
              "2022-01-24            143\n",
              "...                   ...\n",
              "2023-03-06            235\n",
              "2023-03-13            237\n",
              "2023-03-20            260\n",
              "2023-03-27            275\n",
              "2023-04-03            243\n",
              "\n",
              "[67 rows x 1 columns]"
            ],
            "text/html": [
              "\n",
              "  <div id=\"df-cf1ec90d-41e4-4b92-8d7f-710f991baaf9\">\n",
              "    <div class=\"colab-df-container\">\n",
              "      <div>\n",
              "<style scoped>\n",
              "    .dataframe tbody tr th:only-of-type {\n",
              "        vertical-align: middle;\n",
              "    }\n",
              "\n",
              "    .dataframe tbody tr th {\n",
              "        vertical-align: top;\n",
              "    }\n",
              "\n",
              "    .dataframe thead th {\n",
              "        text-align: right;\n",
              "    }\n",
              "</style>\n",
              "<table border=\"1\" class=\"dataframe\">\n",
              "  <thead>\n",
              "    <tr style=\"text-align: right;\">\n",
              "      <th></th>\n",
              "      <th>quantity</th>\n",
              "    </tr>\n",
              "    <tr>\n",
              "      <th>week_start_date</th>\n",
              "      <th></th>\n",
              "    </tr>\n",
              "  </thead>\n",
              "  <tbody>\n",
              "    <tr>\n",
              "      <th>2021-12-27</th>\n",
              "      <td>178</td>\n",
              "    </tr>\n",
              "    <tr>\n",
              "      <th>2022-01-03</th>\n",
              "      <td>271</td>\n",
              "    </tr>\n",
              "    <tr>\n",
              "      <th>2022-01-10</th>\n",
              "      <td>152</td>\n",
              "    </tr>\n",
              "    <tr>\n",
              "      <th>2022-01-17</th>\n",
              "      <td>280</td>\n",
              "    </tr>\n",
              "    <tr>\n",
              "      <th>2022-01-24</th>\n",
              "      <td>143</td>\n",
              "    </tr>\n",
              "    <tr>\n",
              "      <th>...</th>\n",
              "      <td>...</td>\n",
              "    </tr>\n",
              "    <tr>\n",
              "      <th>2023-03-06</th>\n",
              "      <td>235</td>\n",
              "    </tr>\n",
              "    <tr>\n",
              "      <th>2023-03-13</th>\n",
              "      <td>237</td>\n",
              "    </tr>\n",
              "    <tr>\n",
              "      <th>2023-03-20</th>\n",
              "      <td>260</td>\n",
              "    </tr>\n",
              "    <tr>\n",
              "      <th>2023-03-27</th>\n",
              "      <td>275</td>\n",
              "    </tr>\n",
              "    <tr>\n",
              "      <th>2023-04-03</th>\n",
              "      <td>243</td>\n",
              "    </tr>\n",
              "  </tbody>\n",
              "</table>\n",
              "<p>67 rows × 1 columns</p>\n",
              "</div>\n",
              "      <button class=\"colab-df-convert\" onclick=\"convertToInteractive('df-cf1ec90d-41e4-4b92-8d7f-710f991baaf9')\"\n",
              "              title=\"Convert this dataframe to an interactive table.\"\n",
              "              style=\"display:none;\">\n",
              "        \n",
              "  <svg xmlns=\"http://www.w3.org/2000/svg\" height=\"24px\"viewBox=\"0 0 24 24\"\n",
              "       width=\"24px\">\n",
              "    <path d=\"M0 0h24v24H0V0z\" fill=\"none\"/>\n",
              "    <path d=\"M18.56 5.44l.94 2.06.94-2.06 2.06-.94-2.06-.94-.94-2.06-.94 2.06-2.06.94zm-11 1L8.5 8.5l.94-2.06 2.06-.94-2.06-.94L8.5 2.5l-.94 2.06-2.06.94zm10 10l.94 2.06.94-2.06 2.06-.94-2.06-.94-.94-2.06-.94 2.06-2.06.94z\"/><path d=\"M17.41 7.96l-1.37-1.37c-.4-.4-.92-.59-1.43-.59-.52 0-1.04.2-1.43.59L10.3 9.45l-7.72 7.72c-.78.78-.78 2.05 0 2.83L4 21.41c.39.39.9.59 1.41.59.51 0 1.02-.2 1.41-.59l7.78-7.78 2.81-2.81c.8-.78.8-2.07 0-2.86zM5.41 20L4 18.59l7.72-7.72 1.47 1.35L5.41 20z\"/>\n",
              "  </svg>\n",
              "      </button>\n",
              "      \n",
              "  <style>\n",
              "    .colab-df-container {\n",
              "      display:flex;\n",
              "      flex-wrap:wrap;\n",
              "      gap: 12px;\n",
              "    }\n",
              "\n",
              "    .colab-df-convert {\n",
              "      background-color: #E8F0FE;\n",
              "      border: none;\n",
              "      border-radius: 50%;\n",
              "      cursor: pointer;\n",
              "      display: none;\n",
              "      fill: #1967D2;\n",
              "      height: 32px;\n",
              "      padding: 0 0 0 0;\n",
              "      width: 32px;\n",
              "    }\n",
              "\n",
              "    .colab-df-convert:hover {\n",
              "      background-color: #E2EBFA;\n",
              "      box-shadow: 0px 1px 2px rgba(60, 64, 67, 0.3), 0px 1px 3px 1px rgba(60, 64, 67, 0.15);\n",
              "      fill: #174EA6;\n",
              "    }\n",
              "\n",
              "    [theme=dark] .colab-df-convert {\n",
              "      background-color: #3B4455;\n",
              "      fill: #D2E3FC;\n",
              "    }\n",
              "\n",
              "    [theme=dark] .colab-df-convert:hover {\n",
              "      background-color: #434B5C;\n",
              "      box-shadow: 0px 1px 3px 1px rgba(0, 0, 0, 0.15);\n",
              "      filter: drop-shadow(0px 1px 2px rgba(0, 0, 0, 0.3));\n",
              "      fill: #FFFFFF;\n",
              "    }\n",
              "  </style>\n",
              "\n",
              "      <script>\n",
              "        const buttonEl =\n",
              "          document.querySelector('#df-cf1ec90d-41e4-4b92-8d7f-710f991baaf9 button.colab-df-convert');\n",
              "        buttonEl.style.display =\n",
              "          google.colab.kernel.accessAllowed ? 'block' : 'none';\n",
              "\n",
              "        async function convertToInteractive(key) {\n",
              "          const element = document.querySelector('#df-cf1ec90d-41e4-4b92-8d7f-710f991baaf9');\n",
              "          const dataTable =\n",
              "            await google.colab.kernel.invokeFunction('convertToInteractive',\n",
              "                                                     [key], {});\n",
              "          if (!dataTable) return;\n",
              "\n",
              "          const docLinkHtml = 'Like what you see? Visit the ' +\n",
              "            '<a target=\"_blank\" href=https://colab.research.google.com/notebooks/data_table.ipynb>data table notebook</a>'\n",
              "            + ' to learn more about interactive tables.';\n",
              "          element.innerHTML = '';\n",
              "          dataTable['output_type'] = 'display_data';\n",
              "          await google.colab.output.renderOutput(dataTable, element);\n",
              "          const docLink = document.createElement('div');\n",
              "          docLink.innerHTML = docLinkHtml;\n",
              "          element.appendChild(docLink);\n",
              "        }\n",
              "      </script>\n",
              "    </div>\n",
              "  </div>\n",
              "  "
            ]
          },
          "metadata": {},
          "execution_count": 27
        }
      ]
    },
    {
      "cell_type": "code",
      "source": [
        "# Visualize low sales\n",
        "plt.figure(figsize=(18, 10))\n",
        "lowSales.plot()\n",
        "plt.xticks(rotation=90)\n",
        "plt.title('Product Item Lowest Sales')\n",
        "plt.show()"
      ],
      "metadata": {
        "colab": {
          "base_uri": "https://localhost:8080/",
          "height": 510
        },
        "id": "KmjlLj_ovXxB",
        "outputId": "fd20dc3e-7767-4d7b-d88a-6ab35d4e1fd1"
      },
      "execution_count": 28,
      "outputs": [
        {
          "output_type": "display_data",
          "data": {
            "text/plain": [
              "<Figure size 1800x1000 with 0 Axes>"
            ]
          },
          "metadata": {}
        },
        {
          "output_type": "display_data",
          "data": {
            "text/plain": [
              "<Figure size 640x480 with 1 Axes>"
            ],
            "image/png": "[encoded data removed]"
          },
          "metadata": {}
        }
      ]
    },
    {
      "cell_type": "markdown",
      "source": [
        "Dapat dilihat pada grafik untuk penjualan pada May - June 2022 mengalami penjualan yang sangat rendah, dimana total penjualan product_item dibawah 5 barang hanya dibawah 100. Hal ini mungkin diakibatkan karena adanya Libur Idul Fitri 1434 Hijriah dan adanya proses Pendaftaran siswa baru/Kenaikan kelas, sehingga para pelanggan tidak memiliki budget untuk membeli product-product dari **ParagonCorp**. Sedangkan dari total penjualan pada bulan September 2022 memiliki performa yang cukup baik dimana total penjualan dapat mencapai 610 barang. Hal ini mungkin adanya promosi yang gencar terhadap product yang memiliki performa penjualan dibawah 5 barang tersebut."
      ],
      "metadata": {
        "id": "n1ivTgqq3hTh"
      }
    },
    {
      "cell_type": "code",
      "source": [
        "# Prepare Data\n",
        "sales = data.groupby('week_start_date')['quantity'].sum().reset_index()\n",
        "\n",
        "# Display\n",
        "sales.head(10)"
      ],
      "metadata": {
        "colab": {
          "base_uri": "https://localhost:8080/",
          "height": 363
        },
        "id": "SBywcbQ4PBZi",
        "outputId": "20a6d4e6-3255-422f-8264-f3c9f885f4c1"
      },
      "execution_count": 35,
      "outputs": [
        {
          "output_type": "execute_result",
          "data": {
            "text/plain": [
              "  week_start_date  quantity\n",
              "0      2021-12-27    128808\n",
              "1      2022-01-03   3839557\n",
              "2      2022-01-10   4138934\n",
              "3      2022-01-17   4149077\n",
              "4      2022-01-24   4824273\n",
              "5      2022-01-31   4008027\n",
              "6      2022-02-07   4311010\n",
              "7      2022-02-14   3882636\n",
              "8      2022-02-21   4256541\n",
              "9      2022-02-28   3883810"
            ],
            "text/html": [
              "\n",
              "  <div id=\"df-a52c501d-5ec1-436b-a2cf-9394b90f798c\">\n",
              "    <div class=\"colab-df-container\">\n",
              "      <div>\n",
              "<style scoped>\n",
              "    .dataframe tbody tr th:only-of-type {\n",
              "        vertical-align: middle;\n",
              "    }\n",
              "\n",
              "    .dataframe tbody tr th {\n",
              "        vertical-align: top;\n",
              "    }\n",
              "\n",
              "    .dataframe thead th {\n",
              "        text-align: right;\n",
              "    }\n",
              "</style>\n",
              "<table border=\"1\" class=\"dataframe\">\n",
              "  <thead>\n",
              "    <tr style=\"text-align: right;\">\n",
              "      <th></th>\n",
              "      <th>week_start_date</th>\n",
              "      <th>quantity</th>\n",
              "    </tr>\n",
              "  </thead>\n",
              "  <tbody>\n",
              "    <tr>\n",
              "      <th>0</th>\n",
              "      <td>2021-12-27</td>\n",
              "      <td>128808</td>\n",
              "    </tr>\n",
              "    <tr>\n",
              "      <th>1</th>\n",
              "      <td>2022-01-03</td>\n",
              "      <td>3839557</td>\n",
              "    </tr>\n",
              "    <tr>\n",
              "      <th>2</th>\n",
              "      <td>2022-01-10</td>\n",
              "      <td>4138934</td>\n",
              "    </tr>\n",
              "    <tr>\n",
              "      <th>3</th>\n",
              "      <td>2022-01-17</td>\n",
              "      <td>4149077</td>\n",
              "    </tr>\n",
              "    <tr>\n",
              "      <th>4</th>\n",
              "      <td>2022-01-24</td>\n",
              "      <td>4824273</td>\n",
              "    </tr>\n",
              "    <tr>\n",
              "      <th>5</th>\n",
              "      <td>2022-01-31</td>\n",
              "      <td>4008027</td>\n",
              "    </tr>\n",
              "    <tr>\n",
              "      <th>6</th>\n",
              "      <td>2022-02-07</td>\n",
              "      <td>4311010</td>\n",
              "    </tr>\n",
              "    <tr>\n",
              "      <th>7</th>\n",
              "      <td>2022-02-14</td>\n",
              "      <td>3882636</td>\n",
              "    </tr>\n",
              "    <tr>\n",
              "      <th>8</th>\n",
              "      <td>2022-02-21</td>\n",
              "      <td>4256541</td>\n",
              "    </tr>\n",
              "    <tr>\n",
              "      <th>9</th>\n",
              "      <td>2022-02-28</td>\n",
              "      <td>3883810</td>\n",
              "    </tr>\n",
              "  </tbody>\n",
              "</table>\n",
              "</div>\n",
              "      <button class=\"colab-df-convert\" onclick=\"convertToInteractive('df-a52c501d-5ec1-436b-a2cf-9394b90f798c')\"\n",
              "              title=\"Convert this dataframe to an interactive table.\"\n",
              "              style=\"display:none;\">\n",
              "        \n",
              "  <svg xmlns=\"http://www.w3.org/2000/svg\" height=\"24px\"viewBox=\"0 0 24 24\"\n",
              "       width=\"24px\">\n",
              "    <path d=\"M0 0h24v24H0V0z\" fill=\"none\"/>\n",
              "    <path d=\"M18.56 5.44l.94 2.06.94-2.06 2.06-.94-2.06-.94-.94-2.06-.94 2.06-2.06.94zm-11 1L8.5 8.5l.94-2.06 2.06-.94-2.06-.94L8.5 2.5l-.94 2.06-2.06.94zm10 10l.94 2.06.94-2.06 2.06-.94-2.06-.94-.94-2.06-.94 2.06-2.06.94z\"/><path d=\"M17.41 7.96l-1.37-1.37c-.4-.4-.92-.59-1.43-.59-.52 0-1.04.2-1.43.59L10.3 9.45l-7.72 7.72c-.78.78-.78 2.05 0 2.83L4 21.41c.39.39.9.59 1.41.59.51 0 1.02-.2 1.41-.59l7.78-7.78 2.81-2.81c.8-.78.8-2.07 0-2.86zM5.41 20L4 18.59l7.72-7.72 1.47 1.35L5.41 20z\"/>\n",
              "  </svg>\n",
              "      </button>\n",
              "      \n",
              "  <style>\n",
              "    .colab-df-container {\n",
              "      display:flex;\n",
              "      flex-wrap:wrap;\n",
              "      gap: 12px;\n",
              "    }\n",
              "\n",
              "    .colab-df-convert {\n",
              "      background-color: #E8F0FE;\n",
              "      border: none;\n",
              "      border-radius: 50%;\n",
              "      cursor: pointer;\n",
              "      display: none;\n",
              "      fill: #1967D2;\n",
              "      height: 32px;\n",
              "      padding: 0 0 0 0;\n",
              "      width: 32px;\n",
              "    }\n",
              "\n",
              "    .colab-df-convert:hover {\n",
              "      background-color: #E2EBFA;\n",
              "      box-shadow: 0px 1px 2px rgba(60, 64, 67, 0.3), 0px 1px 3px 1px rgba(60, 64, 67, 0.15);\n",
              "      fill: #174EA6;\n",
              "    }\n",
              "\n",
              "    [theme=dark] .colab-df-convert {\n",
              "      background-color: #3B4455;\n",
              "      fill: #D2E3FC;\n",
              "    }\n",
              "\n",
              "    [theme=dark] .colab-df-convert:hover {\n",
              "      background-color: #434B5C;\n",
              "      box-shadow: 0px 1px 3px 1px rgba(0, 0, 0, 0.15);\n",
              "      filter: drop-shadow(0px 1px 2px rgba(0, 0, 0, 0.3));\n",
              "      fill: #FFFFFF;\n",
              "    }\n",
              "  </style>\n",
              "\n",
              "      <script>\n",
              "        const buttonEl =\n",
              "          document.querySelector('#df-a52c501d-5ec1-436b-a2cf-9394b90f798c button.colab-df-convert');\n",
              "        buttonEl.style.display =\n",
              "          google.colab.kernel.accessAllowed ? 'block' : 'none';\n",
              "\n",
              "        async function convertToInteractive(key) {\n",
              "          const element = document.querySelector('#df-a52c501d-5ec1-436b-a2cf-9394b90f798c');\n",
              "          const dataTable =\n",
              "            await google.colab.kernel.invokeFunction('convertToInteractive',\n",
              "                                                     [key], {});\n",
              "          if (!dataTable) return;\n",
              "\n",
              "          const docLinkHtml = 'Like what you see? Visit the ' +\n",
              "            '<a target=\"_blank\" href=https://colab.research.google.com/notebooks/data_table.ipynb>data table notebook</a>'\n",
              "            + ' to learn more about interactive tables.';\n",
              "          element.innerHTML = '';\n",
              "          dataTable['output_type'] = 'display_data';\n",
              "          await google.colab.output.renderOutput(dataTable, element);\n",
              "          const docLink = document.createElement('div');\n",
              "          docLink.innerHTML = docLinkHtml;\n",
              "          element.appendChild(docLink);\n",
              "        }\n",
              "      </script>\n",
              "    </div>\n",
              "  </div>\n",
              "  "
            ]
          },
          "metadata": {},
          "execution_count": 35
        }
      ]
    },
    {
      "cell_type": "markdown",
      "source": [
        "Ini merupakan dataset yang akan  digunakan untuk membuat model prediksi. Data di kolom `week_start_date` dan `quantity` adalah data yang akan digunakan nantinya."
      ],
      "metadata": {
        "id": "L_lucOAkohQY"
      }
    },
    {
      "cell_type": "code",
      "source": [
        "# Visualize the sales data\n",
        "plt.figure(figsize=(15,6))\n",
        "plt.plot(sales['week_start_date'], sales['quantity'], linestyle='dashed', color='Green')\n",
        "plt.title('Trend Visualization')\n",
        "plt.grid(True)\n",
        "plt.show()"
      ],
      "metadata": {
        "colab": {
          "base_uri": "https://localhost:8080/",
          "height": 506
        },
        "id": "AlR3Km8gPVSl",
        "outputId": "0f700bbe-aeb5-4880-983a-1ce7972707ca"
      },
      "execution_count": 40,
      "outputs": [
        {
          "output_type": "display_data",
          "data": {
            "text/plain": [
              "<Figure size 1500x600 with 1 Axes>"
            ],
            "image/png": "[encoded data removed]"
          },
          "metadata": {}
        }
      ]
    },
    {
      "cell_type": "markdown",
      "source": [
        "Dari trend visualisasi diatas menunjukan performa penjualan mengalami fluktuatif. Khususnya pada bulan May 2022 yang merupakan total penjualan terendah dengan total penjualan hanya berkisar 1,5 juta product. Dapat dilihat pada bulan tersebut memang bertepatan dengan adanya cuti bersama dan libur Idul Fitri 1434 Hijriah dan juga persiapan penerimaan siswa baru dan kenaikan kelas sehingga daya beli konsumen terhadap produk kosmetik sedikit mengalami penurunan. "
      ],
      "metadata": {
        "id": "l_EKLDDDSNbf"
      }
    },
    {
      "cell_type": "code",
      "source": [
        "# Change index to time series\n",
        "timeFlowSales = sales.set_index('week_start_date')\n",
        "timeFlowSales.index"
      ],
      "metadata": {
        "colab": {
          "base_uri": "https://localhost:8080/"
        },
        "id": "PyFXYwfFackH",
        "outputId": "634a00a1-3d7c-4c0e-a8c6-488d3a31f287"
      },
      "execution_count": 39,
      "outputs": [
        {
          "output_type": "execute_result",
          "data": {
            "text/plain": [
              "DatetimeIndex(['2021-12-27', '2022-01-03', '2022-01-10', '2022-01-17',\n",
              "               '2022-01-24', '2022-01-31', '2022-02-07', '2022-02-14',\n",
              "               '2022-02-21', '2022-02-28', '2022-03-07', '2022-03-14',\n",
              "               '2022-03-21', '2022-03-28', '2022-04-04', '2022-04-11',\n",
              "               '2022-04-18', '2022-04-25', '2022-05-02', '2022-05-09',\n",
              "               '2022-05-16', '2022-05-23', '2022-05-30', '2022-06-06',\n",
              "               '2022-06-13', '2022-06-20', '2022-06-27', '2022-07-04',\n",
              "               '2022-07-11', '2022-07-18', '2022-07-25', '2022-08-01',\n",
              "               '2022-08-08', '2022-08-15', '2022-08-22', '2022-08-29',\n",
              "               '2022-09-05', '2022-09-12', '2022-09-19', '2022-09-26',\n",
              "               '2022-10-03', '2022-10-10', '2022-10-17', '2022-10-24',\n",
              "               '2022-10-31', '2022-11-07', '2022-11-14', '2022-11-21',\n",
              "               '2022-11-28', '2022-12-05', '2022-12-12', '2022-12-19',\n",
              "               '2022-12-26', '2023-01-02', '2023-01-09', '2023-01-16',\n",
              "               '2023-01-23', '2023-01-30', '2023-02-06', '2023-02-13',\n",
              "               '2023-02-20', '2023-02-27', '2023-03-06', '2023-03-13',\n",
              "               '2023-03-20', '2023-03-27', '2023-04-03'],\n",
              "              dtype='datetime64[ns]', name='week_start_date', freq=None)"
            ]
          },
          "metadata": {},
          "execution_count": 39
        }
      ]
    },
    {
      "cell_type": "markdown",
      "source": [
        "Reset index menjadi time-series ini digunakan untuk mempermudah tracking dan analysis data."
      ],
      "metadata": {
        "id": "4DiF2XmvbW1f"
      }
    },
    {
      "cell_type": "code",
      "source": [
        "# Add column year, month and day\n",
        "timeFlowSales['year'] = pd.DatetimeIndex(timeFlowSales.index).year\n",
        "timeFlowSales['month'] = pd.DatetimeIndex(timeFlowSales.index).month\n",
        "timeFlowSales['day'] = pd.DatetimeIndex(timeFlowSales.index).day_name()\n",
        "\n",
        "# Display\n",
        "timeFlowSales"
      ],
      "metadata": {
        "colab": {
          "base_uri": "https://localhost:8080/",
          "height": 455
        },
        "id": "DlIPoZxtbdjx",
        "outputId": "6c6d6ac5-c220-42cc-c414-a7b543027f34"
      },
      "execution_count": 42,
      "outputs": [
        {
          "output_type": "execute_result",
          "data": {
            "text/plain": [
              "                 quantity  year  month     day\n",
              "week_start_date                               \n",
              "2021-12-27         128808  2021     12  Monday\n",
              "2022-01-03        3839557  2022      1  Monday\n",
              "2022-01-10        4138934  2022      1  Monday\n",
              "2022-01-17        4149077  2022      1  Monday\n",
              "2022-01-24        4824273  2022      1  Monday\n",
              "...                   ...   ...    ...     ...\n",
              "2023-03-06        4775638  2023      3  Monday\n",
              "2023-03-13        4787111  2023      3  Monday\n",
              "2023-03-20        4757590  2023      3  Monday\n",
              "2023-03-27        6001166  2023      3  Monday\n",
              "2023-04-03        4172070  2023      4  Monday\n",
              "\n",
              "[67 rows x 4 columns]"
            ],
            "text/html": [
              "\n",
              "  <div id=\"df-b209baef-947f-4554-8554-2dd484ba2abd\">\n",
              "    <div class=\"colab-df-container\">\n",
              "      <div>\n",
              "<style scoped>\n",
              "    .dataframe tbody tr th:only-of-type {\n",
              "        vertical-align: middle;\n",
              "    }\n",
              "\n",
              "    .dataframe tbody tr th {\n",
              "        vertical-align: top;\n",
              "    }\n",
              "\n",
              "    .dataframe thead th {\n",
              "        text-align: right;\n",
              "    }\n",
              "</style>\n",
              "<table border=\"1\" class=\"dataframe\">\n",
              "  <thead>\n",
              "    <tr style=\"text-align: right;\">\n",
              "      <th></th>\n",
              "      <th>quantity</th>\n",
              "      <th>year</th>\n",
              "      <th>month</th>\n",
              "      <th>day</th>\n",
              "    </tr>\n",
              "    <tr>\n",
              "      <th>week_start_date</th>\n",
              "      <th></th>\n",
              "      <th></th>\n",
              "      <th></th>\n",
              "      <th></th>\n",
              "    </tr>\n",
              "  </thead>\n",
              "  <tbody>\n",
              "    <tr>\n",
              "      <th>2021-12-27</th>\n",
              "      <td>128808</td>\n",
              "      <td>2021</td>\n",
              "      <td>12</td>\n",
              "      <td>Monday</td>\n",
              "    </tr>\n",
              "    <tr>\n",
              "      <th>2022-01-03</th>\n",
              "      <td>3839557</td>\n",
              "      <td>2022</td>\n",
              "      <td>1</td>\n",
              "      <td>Monday</td>\n",
              "    </tr>\n",
              "    <tr>\n",
              "      <th>2022-01-10</th>\n",
              "      <td>4138934</td>\n",
              "      <td>2022</td>\n",
              "      <td>1</td>\n",
              "      <td>Monday</td>\n",
              "    </tr>\n",
              "    <tr>\n",
              "      <th>2022-01-17</th>\n",
              "      <td>4149077</td>\n",
              "      <td>2022</td>\n",
              "      <td>1</td>\n",
              "      <td>Monday</td>\n",
              "    </tr>\n",
              "    <tr>\n",
              "      <th>2022-01-24</th>\n",
              "      <td>4824273</td>\n",
              "      <td>2022</td>\n",
              "      <td>1</td>\n",
              "      <td>Monday</td>\n",
              "    </tr>\n",
              "    <tr>\n",
              "      <th>...</th>\n",
              "      <td>...</td>\n",
              "      <td>...</td>\n",
              "      <td>...</td>\n",
              "      <td>...</td>\n",
              "    </tr>\n",
              "    <tr>\n",
              "      <th>2023-03-06</th>\n",
              "      <td>4775638</td>\n",
              "      <td>2023</td>\n",
              "      <td>3</td>\n",
              "      <td>Monday</td>\n",
              "    </tr>\n",
              "    <tr>\n",
              "      <th>2023-03-13</th>\n",
              "      <td>4787111</td>\n",
              "      <td>2023</td>\n",
              "      <td>3</td>\n",
              "      <td>Monday</td>\n",
              "    </tr>\n",
              "    <tr>\n",
              "      <th>2023-03-20</th>\n",
              "      <td>4757590</td>\n",
              "      <td>2023</td>\n",
              "      <td>3</td>\n",
              "      <td>Monday</td>\n",
              "    </tr>\n",
              "    <tr>\n",
              "      <th>2023-03-27</th>\n",
              "      <td>6001166</td>\n",
              "      <td>2023</td>\n",
              "      <td>3</td>\n",
              "      <td>Monday</td>\n",
              "    </tr>\n",
              "    <tr>\n",
              "      <th>2023-04-03</th>\n",
              "      <td>4172070</td>\n",
              "      <td>2023</td>\n",
              "      <td>4</td>\n",
              "      <td>Monday</td>\n",
              "    </tr>\n",
              "  </tbody>\n",
              "</table>\n",
              "<p>67 rows × 4 columns</p>\n",
              "</div>\n",
              "      <button class=\"colab-df-convert\" onclick=\"convertToInteractive('df-b209baef-947f-4554-8554-2dd484ba2abd')\"\n",
              "              title=\"Convert this dataframe to an interactive table.\"\n",
              "              style=\"display:none;\">\n",
              "        \n",
              "  <svg xmlns=\"http://www.w3.org/2000/svg\" height=\"24px\"viewBox=\"0 0 24 24\"\n",
              "       width=\"24px\">\n",
              "    <path d=\"M0 0h24v24H0V0z\" fill=\"none\"/>\n",
              "    <path d=\"M18.56 5.44l.94 2.06.94-2.06 2.06-.94-2.06-.94-.94-2.06-.94 2.06-2.06.94zm-11 1L8.5 8.5l.94-2.06 2.06-.94-2.06-.94L8.5 2.5l-.94 2.06-2.06.94zm10 10l.94 2.06.94-2.06 2.06-.94-2.06-.94-.94-2.06-.94 2.06-2.06.94z\"/><path d=\"M17.41 7.96l-1.37-1.37c-.4-.4-.92-.59-1.43-.59-.52 0-1.04.2-1.43.59L10.3 9.45l-7.72 7.72c-.78.78-.78 2.05 0 2.83L4 21.41c.39.39.9.59 1.41.59.51 0 1.02-.2 1.41-.59l7.78-7.78 2.81-2.81c.8-.78.8-2.07 0-2.86zM5.41 20L4 18.59l7.72-7.72 1.47 1.35L5.41 20z\"/>\n",
              "  </svg>\n",
              "      </button>\n",
              "      \n",
              "  <style>\n",
              "    .colab-df-container {\n",
              "      display:flex;\n",
              "      flex-wrap:wrap;\n",
              "      gap: 12px;\n",
              "    }\n",
              "\n",
              "    .colab-df-convert {\n",
              "      background-color: #E8F0FE;\n",
              "      border: none;\n",
              "      border-radius: 50%;\n",
              "      cursor: pointer;\n",
              "      display: none;\n",
              "      fill: #1967D2;\n",
              "      height: 32px;\n",
              "      padding: 0 0 0 0;\n",
              "      width: 32px;\n",
              "    }\n",
              "\n",
              "    .colab-df-convert:hover {\n",
              "      background-color: #E2EBFA;\n",
              "      box-shadow: 0px 1px 2px rgba(60, 64, 67, 0.3), 0px 1px 3px 1px rgba(60, 64, 67, 0.15);\n",
              "      fill: #174EA6;\n",
              "    }\n",
              "\n",
              "    [theme=dark] .colab-df-convert {\n",
              "      background-color: #3B4455;\n",
              "      fill: #D2E3FC;\n",
              "    }\n",
              "\n",
              "    [theme=dark] .colab-df-convert:hover {\n",
              "      background-color: #434B5C;\n",
              "      box-shadow: 0px 1px 3px 1px rgba(0, 0, 0, 0.15);\n",
              "      filter: drop-shadow(0px 1px 2px rgba(0, 0, 0, 0.3));\n",
              "      fill: #FFFFFF;\n",
              "    }\n",
              "  </style>\n",
              "\n",
              "      <script>\n",
              "        const buttonEl =\n",
              "          document.querySelector('#df-b209baef-947f-4554-8554-2dd484ba2abd button.colab-df-convert');\n",
              "        buttonEl.style.display =\n",
              "          google.colab.kernel.accessAllowed ? 'block' : 'none';\n",
              "\n",
              "        async function convertToInteractive(key) {\n",
              "          const element = document.querySelector('#df-b209baef-947f-4554-8554-2dd484ba2abd');\n",
              "          const dataTable =\n",
              "            await google.colab.kernel.invokeFunction('convertToInteractive',\n",
              "                                                     [key], {});\n",
              "          if (!dataTable) return;\n",
              "\n",
              "          const docLinkHtml = 'Like what you see? Visit the ' +\n",
              "            '<a target=\"_blank\" href=https://colab.research.google.com/notebooks/data_table.ipynb>data table notebook</a>'\n",
              "            + ' to learn more about interactive tables.';\n",
              "          element.innerHTML = '';\n",
              "          dataTable['output_type'] = 'display_data';\n",
              "          await google.colab.output.renderOutput(dataTable, element);\n",
              "          const docLink = document.createElement('div');\n",
              "          docLink.innerHTML = docLinkHtml;\n",
              "          element.appendChild(docLink);\n",
              "        }\n",
              "      </script>\n",
              "    </div>\n",
              "  </div>\n",
              "  "
            ]
          },
          "metadata": {},
          "execution_count": 42
        }
      ]
    },
    {
      "cell_type": "markdown",
      "source": [
        "Dapat dilihat pada data diatas, data `week_start_date` selalu diambil pada hari Senin dan setiap bulan ada 4-5 kali tergantung dari bulannya."
      ],
      "metadata": {
        "id": "Cadt7olicFF_"
      }
    },
    {
      "cell_type": "markdown",
      "source": [
        "## 5.1 Statistika Deskriptif"
      ],
      "metadata": {
        "id": "YdOEikWccX3z"
      }
    },
    {
      "cell_type": "code",
      "source": [
        "# Describe data\n",
        "timeFlowSales.describe()"
      ],
      "metadata": {
        "colab": {
          "base_uri": "https://localhost:8080/",
          "height": 300
        },
        "id": "uRc_Pwl4caTX",
        "outputId": "61e905d0-f8aa-47f7-dfce-5e516aef219e"
      },
      "execution_count": 43,
      "outputs": [
        {
          "output_type": "execute_result",
          "data": {
            "text/plain": [
              "           quantity         year      month\n",
              "count  6.700000e+01    67.000000  67.000000\n",
              "mean   4.893709e+06  2022.194030   5.626866\n",
              "std    1.044440e+06     0.434804   3.663232\n",
              "min    1.288080e+05  2021.000000   1.000000\n",
              "25%    4.337716e+06  2022.000000   2.000000\n",
              "50%    4.907074e+06  2022.000000   5.000000\n",
              "75%    5.619344e+06  2022.000000   9.000000\n",
              "max    7.172144e+06  2023.000000  12.000000"
            ],
            "text/html": [
              "\n",
              "  <div id=\"df-e5b54635-4c8a-43ef-973d-be0f7b6709fa\">\n",
              "    <div class=\"colab-df-container\">\n",
              "      <div>\n",
              "<style scoped>\n",
              "    .dataframe tbody tr th:only-of-type {\n",
              "        vertical-align: middle;\n",
              "    }\n",
              "\n",
              "    .dataframe tbody tr th {\n",
              "        vertical-align: top;\n",
              "    }\n",
              "\n",
              "    .dataframe thead th {\n",
              "        text-align: right;\n",
              "    }\n",
              "</style>\n",
              "<table border=\"1\" class=\"dataframe\">\n",
              "  <thead>\n",
              "    <tr style=\"text-align: right;\">\n",
              "      <th></th>\n",
              "      <th>quantity</th>\n",
              "      <th>year</th>\n",
              "      <th>month</th>\n",
              "    </tr>\n",
              "  </thead>\n",
              "  <tbody>\n",
              "    <tr>\n",
              "      <th>count</th>\n",
              "      <td>6.700000e+01</td>\n",
              "      <td>67.000000</td>\n",
              "      <td>67.000000</td>\n",
              "    </tr>\n",
              "    <tr>\n",
              "      <th>mean</th>\n",
              "      <td>4.893709e+06</td>\n",
              "      <td>2022.194030</td>\n",
              "      <td>5.626866</td>\n",
              "    </tr>\n",
              "    <tr>\n",
              "      <th>std</th>\n",
              "      <td>1.044440e+06</td>\n",
              "      <td>0.434804</td>\n",
              "      <td>3.663232</td>\n",
              "    </tr>\n",
              "    <tr>\n",
              "      <th>min</th>\n",
              "      <td>1.288080e+05</td>\n",
              "      <td>2021.000000</td>\n",
              "      <td>1.000000</td>\n",
              "    </tr>\n",
              "    <tr>\n",
              "      <th>25%</th>\n",
              "      <td>4.337716e+06</td>\n",
              "      <td>2022.000000</td>\n",
              "      <td>2.000000</td>\n",
              "    </tr>\n",
              "    <tr>\n",
              "      <th>50%</th>\n",
              "      <td>4.907074e+06</td>\n",
              "      <td>2022.000000</td>\n",
              "      <td>5.000000</td>\n",
              "    </tr>\n",
              "    <tr>\n",
              "      <th>75%</th>\n",
              "      <td>5.619344e+06</td>\n",
              "      <td>2022.000000</td>\n",
              "      <td>9.000000</td>\n",
              "    </tr>\n",
              "    <tr>\n",
              "      <th>max</th>\n",
              "      <td>7.172144e+06</td>\n",
              "      <td>2023.000000</td>\n",
              "      <td>12.000000</td>\n",
              "    </tr>\n",
              "  </tbody>\n",
              "</table>\n",
              "</div>\n",
              "      <button class=\"colab-df-convert\" onclick=\"convertToInteractive('df-e5b54635-4c8a-43ef-973d-be0f7b6709fa')\"\n",
              "              title=\"Convert this dataframe to an interactive table.\"\n",
              "              style=\"display:none;\">\n",
              "        \n",
              "  <svg xmlns=\"http://www.w3.org/2000/svg\" height=\"24px\"viewBox=\"0 0 24 24\"\n",
              "       width=\"24px\">\n",
              "    <path d=\"M0 0h24v24H0V0z\" fill=\"none\"/>\n",
              "    <path d=\"M18.56 5.44l.94 2.06.94-2.06 2.06-.94-2.06-.94-.94-2.06-.94 2.06-2.06.94zm-11 1L8.5 8.5l.94-2.06 2.06-.94-2.06-.94L8.5 2.5l-.94 2.06-2.06.94zm10 10l.94 2.06.94-2.06 2.06-.94-2.06-.94-.94-2.06-.94 2.06-2.06.94z\"/><path d=\"M17.41 7.96l-1.37-1.37c-.4-.4-.92-.59-1.43-.59-.52 0-1.04.2-1.43.59L10.3 9.45l-7.72 7.72c-.78.78-.78 2.05 0 2.83L4 21.41c.39.39.9.59 1.41.59.51 0 1.02-.2 1.41-.59l7.78-7.78 2.81-2.81c.8-.78.8-2.07 0-2.86zM5.41 20L4 18.59l7.72-7.72 1.47 1.35L5.41 20z\"/>\n",
              "  </svg>\n",
              "      </button>\n",
              "      \n",
              "  <style>\n",
              "    .colab-df-container {\n",
              "      display:flex;\n",
              "      flex-wrap:wrap;\n",
              "      gap: 12px;\n",
              "    }\n",
              "\n",
              "    .colab-df-convert {\n",
              "      background-color: #E8F0FE;\n",
              "      border: none;\n",
              "      border-radius: 50%;\n",
              "      cursor: pointer;\n",
              "      display: none;\n",
              "      fill: #1967D2;\n",
              "      height: 32px;\n",
              "      padding: 0 0 0 0;\n",
              "      width: 32px;\n",
              "    }\n",
              "\n",
              "    .colab-df-convert:hover {\n",
              "      background-color: #E2EBFA;\n",
              "      box-shadow: 0px 1px 2px rgba(60, 64, 67, 0.3), 0px 1px 3px 1px rgba(60, 64, 67, 0.15);\n",
              "      fill: #174EA6;\n",
              "    }\n",
              "\n",
              "    [theme=dark] .colab-df-convert {\n",
              "      background-color: #3B4455;\n",
              "      fill: #D2E3FC;\n",
              "    }\n",
              "\n",
              "    [theme=dark] .colab-df-convert:hover {\n",
              "      background-color: #434B5C;\n",
              "      box-shadow: 0px 1px 3px 1px rgba(0, 0, 0, 0.15);\n",
              "      filter: drop-shadow(0px 1px 2px rgba(0, 0, 0, 0.3));\n",
              "      fill: #FFFFFF;\n",
              "    }\n",
              "  </style>\n",
              "\n",
              "      <script>\n",
              "        const buttonEl =\n",
              "          document.querySelector('#df-e5b54635-4c8a-43ef-973d-be0f7b6709fa button.colab-df-convert');\n",
              "        buttonEl.style.display =\n",
              "          google.colab.kernel.accessAllowed ? 'block' : 'none';\n",
              "\n",
              "        async function convertToInteractive(key) {\n",
              "          const element = document.querySelector('#df-e5b54635-4c8a-43ef-973d-be0f7b6709fa');\n",
              "          const dataTable =\n",
              "            await google.colab.kernel.invokeFunction('convertToInteractive',\n",
              "                                                     [key], {});\n",
              "          if (!dataTable) return;\n",
              "\n",
              "          const docLinkHtml = 'Like what you see? Visit the ' +\n",
              "            '<a target=\"_blank\" href=https://colab.research.google.com/notebooks/data_table.ipynb>data table notebook</a>'\n",
              "            + ' to learn more about interactive tables.';\n",
              "          element.innerHTML = '';\n",
              "          dataTable['output_type'] = 'display_data';\n",
              "          await google.colab.output.renderOutput(dataTable, element);\n",
              "          const docLink = document.createElement('div');\n",
              "          docLink.innerHTML = docLinkHtml;\n",
              "          element.appendChild(docLink);\n",
              "        }\n",
              "      </script>\n",
              "    </div>\n",
              "  </div>\n",
              "  "
            ]
          },
          "metadata": {},
          "execution_count": 43
        }
      ]
    },
    {
      "cell_type": "markdown",
      "source": [
        "Dari deskripsi diatas, penjualan terendah ada diangka 128808 produk sedangkan tertinggi ada diangka 7172144 produk yaitu pada bulan May-2022 pada pekan awal. Sedangkan rata-rata penjualan per-pekan berada di angka 4893709 produk dengan penjualan ditahun 2021-2023"
      ],
      "metadata": {
        "id": "H8HVHwlvdJHi"
      }
    },
    {
      "cell_type": "code",
      "source": [
        "# Check max sales\n",
        "maxSales = timeFlowSales.loc[timeFlowSales['quantity'].idxmax()]\n",
        "maxSales"
      ],
      "metadata": {
        "colab": {
          "base_uri": "https://localhost:8080/"
        },
        "id": "bfScAqmZd-FU",
        "outputId": "b3b01ce5-f061-44c5-aa86-39542d669763"
      },
      "execution_count": 45,
      "outputs": [
        {
          "output_type": "execute_result",
          "data": {
            "text/plain": [
              "quantity    7172144\n",
              "year           2022\n",
              "month             5\n",
              "day          Monday\n",
              "Name: 2022-05-09 00:00:00, dtype: object"
            ]
          },
          "metadata": {},
          "execution_count": 45
        }
      ]
    },
    {
      "cell_type": "markdown",
      "source": [
        "Penjualan tertinggi terjadi pada tanggal 09 May 2022 sebanyak 7172144 barang. Hal ini terjadi mengingat telah selesainya cuti bersama Idul Fitri 1434 Hijriah yang jatuh pada tanggal 02 - 06 May 2022 sehingga performa penjualan kembali meningkat."
      ],
      "metadata": {
        "id": "7HMbSqKueLpP"
      }
    },
    {
      "cell_type": "markdown",
      "source": [
        "## 5.2 Check Seasonality"
      ],
      "metadata": {
        "id": "HxzXlrMkf99M"
      }
    },
    {
      "cell_type": "code",
      "source": [
        "# Check seasonality\n",
        "colsPlot = ['quantity']\n",
        "axes = timeFlowSales[colsPlot].plot(marker = '.', alpha=0.9, \n",
        "                                    linestyle='None', figsize=(15, 8), subplots=True)\n",
        "for ax in axes:\n",
        "  ax.set_ylabel('Daily Total Sales')\n",
        "  ax.set_xlabel('Week Start Date')"
      ],
      "metadata": {
        "colab": {
          "base_uri": "https://localhost:8080/",
          "height": 659
        },
        "id": "zVxPS7iRf_9L",
        "outputId": "d48a0747-7181-4e0e-91f2-602ce54d97b7"
      },
      "execution_count": 48,
      "outputs": [
        {
          "output_type": "display_data",
          "data": {
            "text/plain": [
              "<Figure size 1500x800 with 1 Axes>"
            ],
            "image/png": "[encoded data removed]"
          },
          "metadata": {}
        }
      ]
    },
    {
      "cell_type": "markdown",
      "source": [
        "Tujuan dari mengecek seasonality pada data penjualan produk adalah untuk memahami pola-pola tertentu yang terjadi selama periode penjualan dalam satu tahun atau lebih\n",
        "\n",
        "Dengan mengecek seasonality akan bisa mendapatkan insight apakah suatu produk memiliki pola penjualan tertentu serta mengidentifikasikan faktor-faktor apa saja yang dapat mempengaruhinya, seperti musim liburan, kenaikan kelas, perubahan musim atau acara khusus lainnya. Sehingga dapat membantu Direksi untuk dapat mengambil keputusan mengenai strategi bisnis dan pemasaran yang efektif yang nantinya akan memberikan dampak positif terhadap performa volume penjualan.\n",
        "\n",
        "Dengan memahami pola-pola penjualan yang sudah terjadi sebelumnya, maka akan bisa membantu dalam membuat model prediksi yang efisien dan lebih akurat.\n",
        "\n",
        "Untuk mempermudah analisa maka akan dilakukan analisa lanjutan terhadap trend penjualan baik per-pekan, per-bulan dan per-tahun dengan memvisualisasikannya."
      ],
      "metadata": {
        "id": "06oFuom7h3_L"
      }
    },
    {
      "cell_type": "markdown",
      "source": [
        "### 5.3.1 Yearly - Resampling"
      ],
      "metadata": {
        "id": "OpIQ4vq1jUJc"
      }
    },
    {
      "cell_type": "code",
      "source": [
        "# Showing all data\n",
        "timeFlowSales.loc['2021' :]"
      ],
      "metadata": {
        "colab": {
          "base_uri": "https://localhost:8080/",
          "height": 455
        },
        "id": "FDq90uAVjW_d",
        "outputId": "53565cc3-61ce-4aef-c6ec-8e3c29f4c384"
      },
      "execution_count": 50,
      "outputs": [
        {
          "output_type": "execute_result",
          "data": {
            "text/plain": [
              "                 quantity  year  month     day\n",
              "week_start_date                               \n",
              "2021-12-27         128808  2021     12  Monday\n",
              "2022-01-03        3839557  2022      1  Monday\n",
              "2022-01-10        4138934  2022      1  Monday\n",
              "2022-01-17        4149077  2022      1  Monday\n",
              "2022-01-24        4824273  2022      1  Monday\n",
              "...                   ...   ...    ...     ...\n",
              "2023-03-06        4775638  2023      3  Monday\n",
              "2023-03-13        4787111  2023      3  Monday\n",
              "2023-03-20        4757590  2023      3  Monday\n",
              "2023-03-27        6001166  2023      3  Monday\n",
              "2023-04-03        4172070  2023      4  Monday\n",
              "\n",
              "[67 rows x 4 columns]"
            ],
            "text/html": [
              "\n",
              "  <div id=\"df-edcb5b80-f9ec-4868-be0e-9910c66959a0\">\n",
              "    <div class=\"colab-df-container\">\n",
              "      <div>\n",
              "<style scoped>\n",
              "    .dataframe tbody tr th:only-of-type {\n",
              "        vertical-align: middle;\n",
              "    }\n",
              "\n",
              "    .dataframe tbody tr th {\n",
              "        vertical-align: top;\n",
              "    }\n",
              "\n",
              "    .dataframe thead th {\n",
              "        text-align: right;\n",
              "    }\n",
              "</style>\n",
              "<table border=\"1\" class=\"dataframe\">\n",
              "  <thead>\n",
              "    <tr style=\"text-align: right;\">\n",
              "      <th></th>\n",
              "      <th>quantity</th>\n",
              "      <th>year</th>\n",
              "      <th>month</th>\n",
              "      <th>day</th>\n",
              "    </tr>\n",
              "    <tr>\n",
              "      <th>week_start_date</th>\n",
              "      <th></th>\n",
              "      <th></th>\n",
              "      <th></th>\n",
              "      <th></th>\n",
              "    </tr>\n",
              "  </thead>\n",
              "  <tbody>\n",
              "    <tr>\n",
              "      <th>2021-12-27</th>\n",
              "      <td>128808</td>\n",
              "      <td>2021</td>\n",
              "      <td>12</td>\n",
              "      <td>Monday</td>\n",
              "    </tr>\n",
              "    <tr>\n",
              "      <th>2022-01-03</th>\n",
              "      <td>3839557</td>\n",
              "      <td>2022</td>\n",
              "      <td>1</td>\n",
              "      <td>Monday</td>\n",
              "    </tr>\n",
              "    <tr>\n",
              "      <th>2022-01-10</th>\n",
              "      <td>4138934</td>\n",
              "      <td>2022</td>\n",
              "      <td>1</td>\n",
              "      <td>Monday</td>\n",
              "    </tr>\n",
              "    <tr>\n",
              "      <th>2022-01-17</th>\n",
              "      <td>4149077</td>\n",
              "      <td>2022</td>\n",
              "      <td>1</td>\n",
              "      <td>Monday</td>\n",
              "    </tr>\n",
              "    <tr>\n",
              "      <th>2022-01-24</th>\n",
              "      <td>4824273</td>\n",
              "      <td>2022</td>\n",
              "      <td>1</td>\n",
              "      <td>Monday</td>\n",
              "    </tr>\n",
              "    <tr>\n",
              "      <th>...</th>\n",
              "      <td>...</td>\n",
              "      <td>...</td>\n",
              "      <td>...</td>\n",
              "      <td>...</td>\n",
              "    </tr>\n",
              "    <tr>\n",
              "      <th>2023-03-06</th>\n",
              "      <td>4775638</td>\n",
              "      <td>2023</td>\n",
              "      <td>3</td>\n",
              "      <td>Monday</td>\n",
              "    </tr>\n",
              "    <tr>\n",
              "      <th>2023-03-13</th>\n",
              "      <td>4787111</td>\n",
              "      <td>2023</td>\n",
              "      <td>3</td>\n",
              "      <td>Monday</td>\n",
              "    </tr>\n",
              "    <tr>\n",
              "      <th>2023-03-20</th>\n",
              "      <td>4757590</td>\n",
              "      <td>2023</td>\n",
              "      <td>3</td>\n",
              "      <td>Monday</td>\n",
              "    </tr>\n",
              "    <tr>\n",
              "      <th>2023-03-27</th>\n",
              "      <td>6001166</td>\n",
              "      <td>2023</td>\n",
              "      <td>3</td>\n",
              "      <td>Monday</td>\n",
              "    </tr>\n",
              "    <tr>\n",
              "      <th>2023-04-03</th>\n",
              "      <td>4172070</td>\n",
              "      <td>2023</td>\n",
              "      <td>4</td>\n",
              "      <td>Monday</td>\n",
              "    </tr>\n",
              "  </tbody>\n",
              "</table>\n",
              "<p>67 rows × 4 columns</p>\n",
              "</div>\n",
              "      <button class=\"colab-df-convert\" onclick=\"convertToInteractive('df-edcb5b80-f9ec-4868-be0e-9910c66959a0')\"\n",
              "              title=\"Convert this dataframe to an interactive table.\"\n",
              "              style=\"display:none;\">\n",
              "        \n",
              "  <svg xmlns=\"http://www.w3.org/2000/svg\" height=\"24px\"viewBox=\"0 0 24 24\"\n",
              "       width=\"24px\">\n",
              "    <path d=\"M0 0h24v24H0V0z\" fill=\"none\"/>\n",
              "    <path d=\"M18.56 5.44l.94 2.06.94-2.06 2.06-.94-2.06-.94-.94-2.06-.94 2.06-2.06.94zm-11 1L8.5 8.5l.94-2.06 2.06-.94-2.06-.94L8.5 2.5l-.94 2.06-2.06.94zm10 10l.94 2.06.94-2.06 2.06-.94-2.06-.94-.94-2.06-.94 2.06-2.06.94z\"/><path d=\"M17.41 7.96l-1.37-1.37c-.4-.4-.92-.59-1.43-.59-.52 0-1.04.2-1.43.59L10.3 9.45l-7.72 7.72c-.78.78-.78 2.05 0 2.83L4 21.41c.39.39.9.59 1.41.59.51 0 1.02-.2 1.41-.59l7.78-7.78 2.81-2.81c.8-.78.8-2.07 0-2.86zM5.41 20L4 18.59l7.72-7.72 1.47 1.35L5.41 20z\"/>\n",
              "  </svg>\n",
              "      </button>\n",
              "      \n",
              "  <style>\n",
              "    .colab-df-container {\n",
              "      display:flex;\n",
              "      flex-wrap:wrap;\n",
              "      gap: 12px;\n",
              "    }\n",
              "\n",
              "    .colab-df-convert {\n",
              "      background-color: #E8F0FE;\n",
              "      border: none;\n",
              "      border-radius: 50%;\n",
              "      cursor: pointer;\n",
              "      display: none;\n",
              "      fill: #1967D2;\n",
              "      height: 32px;\n",
              "      padding: 0 0 0 0;\n",
              "      width: 32px;\n",
              "    }\n",
              "\n",
              "    .colab-df-convert:hover {\n",
              "      background-color: #E2EBFA;\n",
              "      box-shadow: 0px 1px 2px rgba(60, 64, 67, 0.3), 0px 1px 3px 1px rgba(60, 64, 67, 0.15);\n",
              "      fill: #174EA6;\n",
              "    }\n",
              "\n",
              "    [theme=dark] .colab-df-convert {\n",
              "      background-color: #3B4455;\n",
              "      fill: #D2E3FC;\n",
              "    }\n",
              "\n",
              "    [theme=dark] .colab-df-convert:hover {\n",
              "      background-color: #434B5C;\n",
              "      box-shadow: 0px 1px 3px 1px rgba(0, 0, 0, 0.15);\n",
              "      filter: drop-shadow(0px 1px 2px rgba(0, 0, 0, 0.3));\n",
              "      fill: #FFFFFF;\n",
              "    }\n",
              "  </style>\n",
              "\n",
              "      <script>\n",
              "        const buttonEl =\n",
              "          document.querySelector('#df-edcb5b80-f9ec-4868-be0e-9910c66959a0 button.colab-df-convert');\n",
              "        buttonEl.style.display =\n",
              "          google.colab.kernel.accessAllowed ? 'block' : 'none';\n",
              "\n",
              "        async function convertToInteractive(key) {\n",
              "          const element = document.querySelector('#df-edcb5b80-f9ec-4868-be0e-9910c66959a0');\n",
              "          const dataTable =\n",
              "            await google.colab.kernel.invokeFunction('convertToInteractive',\n",
              "                                                     [key], {});\n",
              "          if (!dataTable) return;\n",
              "\n",
              "          const docLinkHtml = 'Like what you see? Visit the ' +\n",
              "            '<a target=\"_blank\" href=https://colab.research.google.com/notebooks/data_table.ipynb>data table notebook</a>'\n",
              "            + ' to learn more about interactive tables.';\n",
              "          element.innerHTML = '';\n",
              "          dataTable['output_type'] = 'display_data';\n",
              "          await google.colab.output.renderOutput(dataTable, element);\n",
              "          const docLink = document.createElement('div');\n",
              "          docLink.innerHTML = docLinkHtml;\n",
              "          element.appendChild(docLink);\n",
              "        }\n",
              "      </script>\n",
              "    </div>\n",
              "  </div>\n",
              "  "
            ]
          },
          "metadata": {},
          "execution_count": 50
        }
      ]
    },
    {
      "cell_type": "code",
      "source": [
        "# Visualize by year\n",
        "colsPlot = ['quantity']\n",
        "timeFlowSales.loc['2022'][colsPlot].plot(figsize=(10, 5))\n",
        "timeFlowSales.loc['2023'][colsPlot].plot(figsize=(10, 5))"
      ],
      "metadata": {
        "colab": {
          "base_uri": "https://localhost:8080/",
          "height": 992
        },
        "id": "WHbH6bqQjzd9",
        "outputId": "1b4dd58d-29bb-4189-f225-19fa0617cef9"
      },
      "execution_count": 53,
      "outputs": [
        {
          "output_type": "execute_result",
          "data": {
            "text/plain": [
              "<Axes: xlabel='week_start_date'>"
            ]
          },
          "metadata": {},
          "execution_count": 53
        },
        {
          "output_type": "display_data",
          "data": {
            "text/plain": [
              "<Figure size 1000x500 with 1 Axes>"
            ],
            "image/png": "[encoded data removed]"
          },
          "metadata": {}
        },
        {
          "output_type": "display_data",
          "data": {
            "text/plain": [
              "<Figure size 1000x500 with 1 Axes>"
            ],
            "image/png": "[encoded data removed]"
          },
          "metadata": {}
        }
      ]
    },
    {
      "cell_type": "markdown",
      "source": [
        "Dari visualisasi diatas dapat disimpulkan : \n",
        "1. Data 2021 tidak digunakan karena hanya terdapat 1 bulan\n",
        "2. Tanggal 02 May 2022 terjadi penurunan penjualan menjadi `1334134` dari sebelumnya pada tanggal 25 April 2022 sebanyak `4684319`. Hal ini terjadi kemungkinan karena adanya libur bersama Idul Fitri 1443 Hijriah.\n",
        "3. Awal tahun terjadi tren kenaikan penjualan dikarenakan adanya libur Natal dan Tahun Baru, dan kemungkinan adanya bonus tahunan bagi sebagian karyawan yang berimbas pada kenaikan volume penjualan pada awal tahun"
      ],
      "metadata": {
        "id": "ykJUiT8Lketl"
      }
    },
    {
      "cell_type": "markdown",
      "source": [
        "###5.3.2 Weekly - Resampling"
      ],
      "metadata": {
        "id": "2AhICmfm0SDL"
      }
    },
    {
      "cell_type": "code",
      "source": [
        "# Weekly sales\n",
        "weekSales = ['quantity']\n",
        "\n",
        "# Resample weekly sales, aggregating with mean\n",
        "weekFlowSales = timeFlowSales[weekSales].resample('W').sum()\n",
        "weekFlowSales"
      ],
      "metadata": {
        "colab": {
          "base_uri": "https://localhost:8080/",
          "height": 455
        },
        "id": "2Ah06v8o0XzI",
        "outputId": "8a6915d4-5f33-4ed2-c69e-ab4cd20a91df"
      },
      "execution_count": 60,
      "outputs": [
        {
          "output_type": "execute_result",
          "data": {
            "text/plain": [
              "                 quantity\n",
              "week_start_date          \n",
              "2022-01-02         128808\n",
              "2022-01-09        3839557\n",
              "2022-01-16        4138934\n",
              "2022-01-23        4149077\n",
              "2022-01-30        4824273\n",
              "...                   ...\n",
              "2023-03-12        4775638\n",
              "2023-03-19        4787111\n",
              "2023-03-26        4757590\n",
              "2023-04-02        6001166\n",
              "2023-04-09        4172070\n",
              "\n",
              "[67 rows x 1 columns]"
            ],
            "text/html": [
              "\n",
              "  <div id=\"df-4a124c3a-13fe-4e2d-a6ab-248b749ae36f\">\n",
              "    <div class=\"colab-df-container\">\n",
              "      <div>\n",
              "<style scoped>\n",
              "    .dataframe tbody tr th:only-of-type {\n",
              "        vertical-align: middle;\n",
              "    }\n",
              "\n",
              "    .dataframe tbody tr th {\n",
              "        vertical-align: top;\n",
              "    }\n",
              "\n",
              "    .dataframe thead th {\n",
              "        text-align: right;\n",
              "    }\n",
              "</style>\n",
              "<table border=\"1\" class=\"dataframe\">\n",
              "  <thead>\n",
              "    <tr style=\"text-align: right;\">\n",
              "      <th></th>\n",
              "      <th>quantity</th>\n",
              "    </tr>\n",
              "    <tr>\n",
              "      <th>week_start_date</th>\n",
              "      <th></th>\n",
              "    </tr>\n",
              "  </thead>\n",
              "  <tbody>\n",
              "    <tr>\n",
              "      <th>2022-01-02</th>\n",
              "      <td>128808</td>\n",
              "    </tr>\n",
              "    <tr>\n",
              "      <th>2022-01-09</th>\n",
              "      <td>3839557</td>\n",
              "    </tr>\n",
              "    <tr>\n",
              "      <th>2022-01-16</th>\n",
              "      <td>4138934</td>\n",
              "    </tr>\n",
              "    <tr>\n",
              "      <th>2022-01-23</th>\n",
              "      <td>4149077</td>\n",
              "    </tr>\n",
              "    <tr>\n",
              "      <th>2022-01-30</th>\n",
              "      <td>4824273</td>\n",
              "    </tr>\n",
              "    <tr>\n",
              "      <th>...</th>\n",
              "      <td>...</td>\n",
              "    </tr>\n",
              "    <tr>\n",
              "      <th>2023-03-12</th>\n",
              "      <td>4775638</td>\n",
              "    </tr>\n",
              "    <tr>\n",
              "      <th>2023-03-19</th>\n",
              "      <td>4787111</td>\n",
              "    </tr>\n",
              "    <tr>\n",
              "      <th>2023-03-26</th>\n",
              "      <td>4757590</td>\n",
              "    </tr>\n",
              "    <tr>\n",
              "      <th>2023-04-02</th>\n",
              "      <td>6001166</td>\n",
              "    </tr>\n",
              "    <tr>\n",
              "      <th>2023-04-09</th>\n",
              "      <td>4172070</td>\n",
              "    </tr>\n",
              "  </tbody>\n",
              "</table>\n",
              "<p>67 rows × 1 columns</p>\n",
              "</div>\n",
              "      <button class=\"colab-df-convert\" onclick=\"convertToInteractive('df-4a124c3a-13fe-4e2d-a6ab-248b749ae36f')\"\n",
              "              title=\"Convert this dataframe to an interactive table.\"\n",
              "              style=\"display:none;\">\n",
              "        \n",
              "  <svg xmlns=\"http://www.w3.org/2000/svg\" height=\"24px\"viewBox=\"0 0 24 24\"\n",
              "       width=\"24px\">\n",
              "    <path d=\"M0 0h24v24H0V0z\" fill=\"none\"/>\n",
              "    <path d=\"M18.56 5.44l.94 2.06.94-2.06 2.06-.94-2.06-.94-.94-2.06-.94 2.06-2.06.94zm-11 1L8.5 8.5l.94-2.06 2.06-.94-2.06-.94L8.5 2.5l-.94 2.06-2.06.94zm10 10l.94 2.06.94-2.06 2.06-.94-2.06-.94-.94-2.06-.94 2.06-2.06.94z\"/><path d=\"M17.41 7.96l-1.37-1.37c-.4-.4-.92-.59-1.43-.59-.52 0-1.04.2-1.43.59L10.3 9.45l-7.72 7.72c-.78.78-.78 2.05 0 2.83L4 21.41c.39.39.9.59 1.41.59.51 0 1.02-.2 1.41-.59l7.78-7.78 2.81-2.81c.8-.78.8-2.07 0-2.86zM5.41 20L4 18.59l7.72-7.72 1.47 1.35L5.41 20z\"/>\n",
              "  </svg>\n",
              "      </button>\n",
              "      \n",
              "  <style>\n",
              "    .colab-df-container {\n",
              "      display:flex;\n",
              "      flex-wrap:wrap;\n",
              "      gap: 12px;\n",
              "    }\n",
              "\n",
              "    .colab-df-convert {\n",
              "      background-color: #E8F0FE;\n",
              "      border: none;\n",
              "      border-radius: 50%;\n",
              "      cursor: pointer;\n",
              "      display: none;\n",
              "      fill: #1967D2;\n",
              "      height: 32px;\n",
              "      padding: 0 0 0 0;\n",
              "      width: 32px;\n",
              "    }\n",
              "\n",
              "    .colab-df-convert:hover {\n",
              "      background-color: #E2EBFA;\n",
              "      box-shadow: 0px 1px 2px rgba(60, 64, 67, 0.3), 0px 1px 3px 1px rgba(60, 64, 67, 0.15);\n",
              "      fill: #174EA6;\n",
              "    }\n",
              "\n",
              "    [theme=dark] .colab-df-convert {\n",
              "      background-color: #3B4455;\n",
              "      fill: #D2E3FC;\n",
              "    }\n",
              "\n",
              "    [theme=dark] .colab-df-convert:hover {\n",
              "      background-color: #434B5C;\n",
              "      box-shadow: 0px 1px 3px 1px rgba(0, 0, 0, 0.15);\n",
              "      filter: drop-shadow(0px 1px 2px rgba(0, 0, 0, 0.3));\n",
              "      fill: #FFFFFF;\n",
              "    }\n",
              "  </style>\n",
              "\n",
              "      <script>\n",
              "        const buttonEl =\n",
              "          document.querySelector('#df-4a124c3a-13fe-4e2d-a6ab-248b749ae36f button.colab-df-convert');\n",
              "        buttonEl.style.display =\n",
              "          google.colab.kernel.accessAllowed ? 'block' : 'none';\n",
              "\n",
              "        async function convertToInteractive(key) {\n",
              "          const element = document.querySelector('#df-4a124c3a-13fe-4e2d-a6ab-248b749ae36f');\n",
              "          const dataTable =\n",
              "            await google.colab.kernel.invokeFunction('convertToInteractive',\n",
              "                                                     [key], {});\n",
              "          if (!dataTable) return;\n",
              "\n",
              "          const docLinkHtml = 'Like what you see? Visit the ' +\n",
              "            '<a target=\"_blank\" href=https://colab.research.google.com/notebooks/data_table.ipynb>data table notebook</a>'\n",
              "            + ' to learn more about interactive tables.';\n",
              "          element.innerHTML = '';\n",
              "          dataTable['output_type'] = 'display_data';\n",
              "          await google.colab.output.renderOutput(dataTable, element);\n",
              "          const docLink = document.createElement('div');\n",
              "          docLink.innerHTML = docLinkHtml;\n",
              "          element.appendChild(docLink);\n",
              "        }\n",
              "      </script>\n",
              "    </div>\n",
              "  </div>\n",
              "  "
            ]
          },
          "metadata": {},
          "execution_count": 60
        }
      ]
    },
    {
      "cell_type": "code",
      "source": [
        "# Visualize weekly sales\n",
        "weekFlowSales.loc['2022'][colsPlot].plot(figsize=(10, 5))\n",
        "weekFlowSales.loc['2023'][colsPlot].plot(figsize=(10, 5))\n",
        "weekFlowSales[colsPlot].plot(figsize=(10, 5))"
      ],
      "metadata": {
        "colab": {
          "base_uri": "https://localhost:8080/",
          "height": 1000
        },
        "id": "1fRZKMRA0zAu",
        "outputId": "0ea55a91-bb01-4205-c70d-a632cbad4a97"
      },
      "execution_count": 63,
      "outputs": [
        {
          "output_type": "execute_result",
          "data": {
            "text/plain": [
              "<Axes: xlabel='week_start_date'>"
            ]
          },
          "metadata": {},
          "execution_count": 63
        },
        {
          "output_type": "display_data",
          "data": {
            "text/plain": [
              "<Figure size 1000x500 with 1 Axes>"
            ],
            "image/png": "[encoded data removed]"
          },
          "metadata": {}
        },
        {
          "output_type": "display_data",
          "data": {
            "text/plain": [
              "<Figure size 1000x500 with 1 Axes>"
            ],
            "image/png": "[encoded data removed]"
          },
          "metadata": {}
        },
        {
          "output_type": "display_data",
          "data": {
            "text/plain": [
              "<Figure size 1000x500 with 1 Axes>"
            ],
            "image/png": "[encoded data removed]"
          },
          "metadata": {}
        }
      ]
    },
    {
      "cell_type": "markdown",
      "source": [
        "Dari visualisasi diatas dapat disimpulkan:\n",
        "1. Tren penjualan mingguan hampir sama dengan trend penjualan tahunan, terjadi kenaikan dan penurunan pada tiap minggunya.\n",
        "2. Kenaikan terjadi dimana terdapat tanggal yang sama pada bulan berjalan, semisal 1-1, 2-2, 3-3 dan sebagainya pada setiap e-commerce yang memberikan diskon atau bebas ongkos kirim, sehingga semakin menarik minat pembeli untuk melakukan transaksi\n",
        "3. Dapat dilihat juga, rata-rata kenaikan penjualan terjadi pada pekan ketiga dan keempat dimana sebagian besar karyawan sudah menerima gaji/upah sehingga mereka akan melakukan transaksi, baik via offline maupun e-commerce"
      ],
      "metadata": {
        "id": "w-dMK3bh1TYz"
      }
    },
    {
      "cell_type": "markdown",
      "source": [
        "### 5.3.3 Monthly - Resampling"
      ],
      "metadata": {
        "id": "qFaiVAgK2YkW"
      }
    },
    {
      "cell_type": "code",
      "source": [
        "# Monthly resampling\n",
        "monthSales = ['quantity']\n",
        "\n",
        "# Resampling to monthly frequency, aggregating with mean\n",
        "monthFlowSales = timeFlowSales[monthSales].resample('M').sum()\n",
        "monthFlowSales"
      ],
      "metadata": {
        "colab": {
          "base_uri": "https://localhost:8080/",
          "height": 613
        },
        "id": "whE161vq2c5c",
        "outputId": "7144fef3-63ac-4757-b1da-19a03873581a"
      },
      "execution_count": 66,
      "outputs": [
        {
          "output_type": "execute_result",
          "data": {
            "text/plain": [
              "                 quantity\n",
              "week_start_date          \n",
              "2021-12-31         128808\n",
              "2022-01-31       20959868\n",
              "2022-02-28       16333997\n",
              "2022-03-31       18952067\n",
              "2022-04-30       19928123\n",
              "2022-05-31       25223913\n",
              "2022-06-30       23286196\n",
              "2022-07-31       22683481\n",
              "2022-08-31       29452508\n",
              "2022-09-30       22047744\n",
              "2022-10-31       23947129\n",
              "2022-11-30       19515007\n",
              "2022-12-31       21423517\n",
              "2023-01-31       23068833\n",
              "2023-02-28       16433750\n",
              "2023-03-31       20321505\n",
              "2023-04-30        4172070"
            ],
            "text/html": [
              "\n",
              "  <div id=\"df-371af958-ed87-4007-846b-e9ee36093bf3\">\n",
              "    <div class=\"colab-df-container\">\n",
              "      <div>\n",
              "<style scoped>\n",
              "    .dataframe tbody tr th:only-of-type {\n",
              "        vertical-align: middle;\n",
              "    }\n",
              "\n",
              "    .dataframe tbody tr th {\n",
              "        vertical-align: top;\n",
              "    }\n",
              "\n",
              "    .dataframe thead th {\n",
              "        text-align: right;\n",
              "    }\n",
              "</style>\n",
              "<table border=\"1\" class=\"dataframe\">\n",
              "  <thead>\n",
              "    <tr style=\"text-align: right;\">\n",
              "      <th></th>\n",
              "      <th>quantity</th>\n",
              "    </tr>\n",
              "    <tr>\n",
              "      <th>week_start_date</th>\n",
              "      <th></th>\n",
              "    </tr>\n",
              "  </thead>\n",
              "  <tbody>\n",
              "    <tr>\n",
              "      <th>2021-12-31</th>\n",
              "      <td>128808</td>\n",
              "    </tr>\n",
              "    <tr>\n",
              "      <th>2022-01-31</th>\n",
              "      <td>20959868</td>\n",
              "    </tr>\n",
              "    <tr>\n",
              "      <th>2022-02-28</th>\n",
              "      <td>16333997</td>\n",
              "    </tr>\n",
              "    <tr>\n",
              "      <th>2022-03-31</th>\n",
              "      <td>18952067</td>\n",
              "    </tr>\n",
              "    <tr>\n",
              "      <th>2022-04-30</th>\n",
              "      <td>19928123</td>\n",
              "    </tr>\n",
              "    <tr>\n",
              "      <th>2022-05-31</th>\n",
              "      <td>25223913</td>\n",
              "    </tr>\n",
              "    <tr>\n",
              "      <th>2022-06-30</th>\n",
              "      <td>23286196</td>\n",
              "    </tr>\n",
              "    <tr>\n",
              "      <th>2022-07-31</th>\n",
              "      <td>22683481</td>\n",
              "    </tr>\n",
              "    <tr>\n",
              "      <th>2022-08-31</th>\n",
              "      <td>29452508</td>\n",
              "    </tr>\n",
              "    <tr>\n",
              "      <th>2022-09-30</th>\n",
              "      <td>22047744</td>\n",
              "    </tr>\n",
              "    <tr>\n",
              "      <th>2022-10-31</th>\n",
              "      <td>23947129</td>\n",
              "    </tr>\n",
              "    <tr>\n",
              "      <th>2022-11-30</th>\n",
              "      <td>19515007</td>\n",
              "    </tr>\n",
              "    <tr>\n",
              "      <th>2022-12-31</th>\n",
              "      <td>21423517</td>\n",
              "    </tr>\n",
              "    <tr>\n",
              "      <th>2023-01-31</th>\n",
              "      <td>23068833</td>\n",
              "    </tr>\n",
              "    <tr>\n",
              "      <th>2023-02-28</th>\n",
              "      <td>16433750</td>\n",
              "    </tr>\n",
              "    <tr>\n",
              "      <th>2023-03-31</th>\n",
              "      <td>20321505</td>\n",
              "    </tr>\n",
              "    <tr>\n",
              "      <th>2023-04-30</th>\n",
              "      <td>4172070</td>\n",
              "    </tr>\n",
              "  </tbody>\n",
              "</table>\n",
              "</div>\n",
              "      <button class=\"colab-df-convert\" onclick=\"convertToInteractive('df-371af958-ed87-4007-846b-e9ee36093bf3')\"\n",
              "              title=\"Convert this dataframe to an interactive table.\"\n",
              "              style=\"display:none;\">\n",
              "        \n",
              "  <svg xmlns=\"http://www.w3.org/2000/svg\" height=\"24px\"viewBox=\"0 0 24 24\"\n",
              "       width=\"24px\">\n",
              "    <path d=\"M0 0h24v24H0V0z\" fill=\"none\"/>\n",
              "    <path d=\"M18.56 5.44l.94 2.06.94-2.06 2.06-.94-2.06-.94-.94-2.06-.94 2.06-2.06.94zm-11 1L8.5 8.5l.94-2.06 2.06-.94-2.06-.94L8.5 2.5l-.94 2.06-2.06.94zm10 10l.94 2.06.94-2.06 2.06-.94-2.06-.94-.94-2.06-.94 2.06-2.06.94z\"/><path d=\"M17.41 7.96l-1.37-1.37c-.4-.4-.92-.59-1.43-.59-.52 0-1.04.2-1.43.59L10.3 9.45l-7.72 7.72c-.78.78-.78 2.05 0 2.83L4 21.41c.39.39.9.59 1.41.59.51 0 1.02-.2 1.41-.59l7.78-7.78 2.81-2.81c.8-.78.8-2.07 0-2.86zM5.41 20L4 18.59l7.72-7.72 1.47 1.35L5.41 20z\"/>\n",
              "  </svg>\n",
              "      </button>\n",
              "      \n",
              "  <style>\n",
              "    .colab-df-container {\n",
              "      display:flex;\n",
              "      flex-wrap:wrap;\n",
              "      gap: 12px;\n",
              "    }\n",
              "\n",
              "    .colab-df-convert {\n",
              "      background-color: #E8F0FE;\n",
              "      border: none;\n",
              "      border-radius: 50%;\n",
              "      cursor: pointer;\n",
              "      display: none;\n",
              "      fill: #1967D2;\n",
              "      height: 32px;\n",
              "      padding: 0 0 0 0;\n",
              "      width: 32px;\n",
              "    }\n",
              "\n",
              "    .colab-df-convert:hover {\n",
              "      background-color: #E2EBFA;\n",
              "      box-shadow: 0px 1px 2px rgba(60, 64, 67, 0.3), 0px 1px 3px 1px rgba(60, 64, 67, 0.15);\n",
              "      fill: #174EA6;\n",
              "    }\n",
              "\n",
              "    [theme=dark] .colab-df-convert {\n",
              "      background-color: #3B4455;\n",
              "      fill: #D2E3FC;\n",
              "    }\n",
              "\n",
              "    [theme=dark] .colab-df-convert:hover {\n",
              "      background-color: #434B5C;\n",
              "      box-shadow: 0px 1px 3px 1px rgba(0, 0, 0, 0.15);\n",
              "      filter: drop-shadow(0px 1px 2px rgba(0, 0, 0, 0.3));\n",
              "      fill: #FFFFFF;\n",
              "    }\n",
              "  </style>\n",
              "\n",
              "      <script>\n",
              "        const buttonEl =\n",
              "          document.querySelector('#df-371af958-ed87-4007-846b-e9ee36093bf3 button.colab-df-convert');\n",
              "        buttonEl.style.display =\n",
              "          google.colab.kernel.accessAllowed ? 'block' : 'none';\n",
              "\n",
              "        async function convertToInteractive(key) {\n",
              "          const element = document.querySelector('#df-371af958-ed87-4007-846b-e9ee36093bf3');\n",
              "          const dataTable =\n",
              "            await google.colab.kernel.invokeFunction('convertToInteractive',\n",
              "                                                     [key], {});\n",
              "          if (!dataTable) return;\n",
              "\n",
              "          const docLinkHtml = 'Like what you see? Visit the ' +\n",
              "            '<a target=\"_blank\" href=https://colab.research.google.com/notebooks/data_table.ipynb>data table notebook</a>'\n",
              "            + ' to learn more about interactive tables.';\n",
              "          element.innerHTML = '';\n",
              "          dataTable['output_type'] = 'display_data';\n",
              "          await google.colab.output.renderOutput(dataTable, element);\n",
              "          const docLink = document.createElement('div');\n",
              "          docLink.innerHTML = docLinkHtml;\n",
              "          element.appendChild(docLink);\n",
              "        }\n",
              "      </script>\n",
              "    </div>\n",
              "  </div>\n",
              "  "
            ]
          },
          "metadata": {},
          "execution_count": 66
        }
      ]
    },
    {
      "cell_type": "code",
      "source": [
        "# Visualize monthly resampling\n",
        "monthFlowSales.loc['2022'][colsPlot].plot(figsize=(10, 5))\n",
        "monthFlowSales.loc['2023'][colsPlot].plot(figsize=(10, 5))\n",
        "monthFlowSales[colsPlot].plot(figsize=(10, 5))"
      ],
      "metadata": {
        "colab": {
          "base_uri": "https://localhost:8080/",
          "height": 1000
        },
        "id": "Ua6MMIfV269f",
        "outputId": "61b1d83e-f910-4201-de1b-3323e496e8a0"
      },
      "execution_count": 67,
      "outputs": [
        {
          "output_type": "execute_result",
          "data": {
            "text/plain": [
              "<Axes: xlabel='week_start_date'>"
            ]
          },
          "metadata": {},
          "execution_count": 67
        },
        {
          "output_type": "display_data",
          "data": {
            "text/plain": [
              "<Figure size 1000x500 with 1 Axes>"
            ],
            "image/png": "[encoded data removed]"
          },
          "metadata": {}
        },
        {
          "output_type": "display_data",
          "data": {
            "text/plain": [
              "<Figure size 1000x500 with 1 Axes>"
            ],
            "image/png": "[encoded data removed]"
          },
          "metadata": {}
        },
        {
          "output_type": "display_data",
          "data": {
            "text/plain": [
              "<Figure size 1000x500 with 1 Axes>"
            ],
            "image/png": "[encoded data removed]"
          },
          "metadata": {}
        }
      ]
    },
    {
      "cell_type": "markdown",
      "source": [
        "Dari visualisasi diatas dapat disimpulkan:\n",
        "1. Trend penjualan hampir sama dengan tahunan, fluktuatif setiap bulannya.\n",
        "2. Penjualan terendah pada bulan February 2022 sebanyak 16333997 terjadi mungkin sebagian dana dari konsumen sudah digunakan untuk libur akhir tahun\n",
        "3. Sementara penjualan tertinggi terjadi di bulan August 2022 dengan total 29452508. Hal ini mungkin bertepatan dengan hari kemerdakaan Indonesia dan banyaknya promo dari e-commerce dan brand ambassador product."
      ],
      "metadata": {
        "id": "apiX41XQ3Sj9"
      }
    },
    {
      "cell_type": "markdown",
      "source": [
        "### 5.3.4 Trend Checking"
      ],
      "metadata": {
        "id": "Hm37vpOB4HWf"
      }
    },
    {
      "cell_type": "code",
      "source": [
        "# Function trend checking\n",
        "def trendCheck(X_df):\n",
        "  coefficients, residuals, _, _, _ = np.polyfit(range(len(X_df)), X_df, 1, full=True)\n",
        "\n",
        "  mse = residuals[0]/(len(X_df))\n",
        "  nrmse = np.sqrt(mse)/(X_df.max() - X_df.min())\n",
        "\n",
        "  print('Slope  : ' + str(coefficients[0]))\n",
        "  print('NRMSE  : ' + str(nrmse))\n",
        "\n",
        "  plt.xticks(rotation=90)\n",
        "  plt.plot(X_df, marker='.', linestyle='-', linewidth=0.5,\n",
        "           color='blue', label='Original')\n",
        "    \n",
        "  plt.plot([coefficients[0]*x + coefficients[1] for x in range(len(X_df))],\n",
        "           marker='o', markersize=8, linestyle='-', linewidth=0.5,\n",
        "           color='orange', label='Regression line');\n",
        "  plt.legend()\n",
        "  plt.show()"
      ],
      "metadata": {
        "id": "eHeoBb4i4KRG"
      },
      "execution_count": 71,
      "outputs": []
    },
    {
      "cell_type": "code",
      "source": [
        "# Trend check\n",
        "trendCheck(monthFlowSales.loc['2022']['quantity'].values)\n",
        "trendCheck(monthFlowSales.loc['2023']['quantity'].values)\n",
        "trendCheck(monthFlowSales[colsPlot].values)"
      ],
      "metadata": {
        "colab": {
          "base_uri": "https://localhost:8080/",
          "height": 1000
        },
        "id": "8gSJnzJ55Vi9",
        "outputId": "d34c3488-3f8f-4026-dee3-ae5083ae2d19"
      },
      "execution_count": 73,
      "outputs": [
        {
          "output_type": "stream",
          "name": "stdout",
          "text": [
            "Slope  : 319495.9370629371\n",
            "NRMSE  : 0.2313391001411843\n"
          ]
        },
        {
          "output_type": "display_data",
          "data": {
            "text/plain": [
              "<Figure size 640x480 with 1 Axes>"
            ],
            "image/png": "[encoded data removed]"
          },
          "metadata": {}
        },
        {
          "output_type": "stream",
          "name": "stdout",
          "text": [
            "Slope  : -5280253.399999998\n",
            "NRMSE  : 0.22030897573787028\n"
          ]
        },
        {
          "output_type": "display_data",
          "data": {
            "text/plain": [
              "<Figure size 640x480 with 1 Axes>"
            ],
            "image/png": "[encoded data removed]"
          },
          "metadata": {}
        },
        {
          "output_type": "stream",
          "name": "stdout",
          "text": [
            "Slope  : [94610.0245098]\n",
            "NRMSE  : 0.2379210923168305\n"
          ]
        },
        {
          "output_type": "display_data",
          "data": {
            "text/plain": [
              "<Figure size 640x480 with 1 Axes>"
            ],
            "image/png": "[encoded data removed]"
          },
          "metadata": {}
        }
      ]
    },
    {
      "cell_type": "markdown",
      "source": [
        "# **6. Data Preprocessing**\n",
        "\n",
        "---"
      ],
      "metadata": {
        "id": "3Iaw_lF3pGul"
      }
    },
    {
      "cell_type": "markdown",
      "source": [
        "Bagian ini berisi proses penyiapan data untuk proses pelatihan model, seperti pembagian data menjadi train-test, transformasi data (normalisasi, encoding, dll.), dan proses-proses lain yang dibutuhkan."
      ],
      "metadata": {
        "id": "fdHB1LiapKnt"
      }
    },
    {
      "cell_type": "markdown",
      "source": [
        "# **7 - Model Definition**\n",
        "\n",
        "---"
      ],
      "metadata": {
        "id": "lqDd6-4CpNSa"
      }
    },
    {
      "cell_type": "markdown",
      "source": [
        "Bagian ini berisi cell untuk mendefinisikan model. Jelaskan alasan menggunakan suatu algoritma/model, hyperparameter yang dipakai, jenis penggunaan metrics yang dipakai, dan hal lain yang terkait dengan model."
      ],
      "metadata": {
        "id": "JP68gjB1pRgq"
      }
    },
    {
      "cell_type": "markdown",
      "source": [
        "# 8 - Model Training\n",
        "\n",
        "---\n",
        "\n"
      ],
      "metadata": {
        "id": "9rD0BYWSpThz"
      }
    },
    {
      "cell_type": "markdown",
      "source": [
        "Cell pada bagian ini hanya berisi code untuk melatih model dan output yang dihasilkan. Lakukan beberapa kali proses training dengan hyperparameter yang berbeda untuk melihat hasil yang didapatkan. Analisis dan narasikan hasil ini pada bagian Model Evaluation."
      ],
      "metadata": {
        "id": "LsQmIpORpXBw"
      }
    },
    {
      "cell_type": "markdown",
      "source": [
        "# **9 - Model Evaluation**\n",
        "\n",
        "---"
      ],
      "metadata": {
        "id": "jMevhnYSpYz1"
      }
    },
    {
      "cell_type": "markdown",
      "source": [
        "Pada bagian ini, dilakukan evaluasi model yang harus menunjukkan bagaimana performa model berdasarkan metrics yang dipilih. Hal ini harus dibuktikan dengan visualisasi tren performa dan/atau tingkat kesalahan model. Lakukan analisis terkait dengan hasil pada model dan tuliskan hasil analisisnya."
      ],
      "metadata": {
        "id": "xfHN_xj-pdUc"
      }
    },
    {
      "cell_type": "markdown",
      "source": [
        "# **10 - Model Inference**\n",
        "\n",
        "---"
      ],
      "metadata": {
        "id": "Sl3tVkegpgS9"
      }
    },
    {
      "cell_type": "markdown",
      "source": [
        "Model yang sudah dilatih akan dicoba pada data yang bukan termasuk ke dalam train-set ataupun test-set. Data ini harus dalam format yang asli, bukan data yang sudah di-scaled."
      ],
      "metadata": {
        "id": "h4x4HSmTpkrc"
      }
    },
    {
      "cell_type": "markdown",
      "source": [
        "# **11 - Model Saving**\n",
        "\n",
        "---\n"
      ],
      "metadata": {
        "id": "yypvqt1CfGyj"
      }
    },
    {
      "cell_type": "markdown",
      "source": [
        "# **12 - Pengambilan Kesimpulan**\n",
        "\n",
        "---\n"
      ],
      "metadata": {
        "id": "Ot7rm5udpmTJ"
      }
    },
    {
      "cell_type": "markdown",
      "source": [
        "Pada bagian terakhir ini, harus berisi kesimpulan yang mencerminkan hasil yang didapat dengan objective yang sudah ditulis di bagian pengenalan."
      ],
      "metadata": {
        "id": "iKAfRH5zpqWy"
      }
    }
  ]
}